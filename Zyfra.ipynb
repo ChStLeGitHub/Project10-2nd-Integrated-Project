{
 "cells": [
  {
   "cell_type": "code",
   "execution_count": 1,
   "metadata": {},
   "outputs": [],
   "source": [
    "from IPython.display import Image, display\n",
    "import matplotlib.pyplot as plt\n",
    "import numpy as np\n",
    "import pandas as pd\n",
    "import seaborn as sns\n",
    "import sklearn\n",
    "from sklearn.dummy import DummyRegressor\n",
    "from sklearn.ensemble import RandomForestRegressor\n",
    "from sklearn.linear_model import LinearRegression\n",
    "from sklearn.metrics import make_scorer\n",
    "from sklearn.model_selection import cross_val_score\n",
    "from sklearn.tree import DecisionTreeRegressor"
   ]
  },
  {
   "cell_type": "markdown",
   "metadata": {},
   "source": [
    "# Table of Contents"
   ]
  },
  {
   "cell_type": "markdown",
   "metadata": {},
   "source": [
    "[Introduction](#1)\n",
    "\n",
    "[Technological Process](#2)\n",
    "\n",
    "[Data Description](#3)\n",
    "\n",
    "[Feature Naming](#4)\n",
    "\n",
    "[Section 1: Preparing the Data](#5)\n",
    "- [PART A: Opening the Files and Looking Into the Data](#5.1)\n",
    "- [PART B: Checking That Recovery Is Calculated Correctly](#5.2)\n",
    "- [PART C: Analyzing the Features Not Available In the Test Set](#5.3)\n",
    "- [PART D: Performing Data Preprocessing](#5.4)\n",
    "\n",
    "[Section 2: Analyzing the Data](#6)\n",
    "- [PART A: Noting Change In Concentrations of Metals Depending On the Purification Stage](#6.1)\n",
    "- [PART B: Comparing the Feed Particle Size Distributions In the Training Set and In the Test Set](#6.2)\n",
    "- [PART C: Are There Any Abnormal Values In the Total Distribution?](#6.3)\n",
    "\n",
    "[Section 3: Building the Model](#7)\n",
    "- [PART A: Writing a Function to Calculate the Final sMAPE Value](#7.1)\n",
    "- [PART B: Training Different Models and Testing the Best One Using the Test Sample](#7.2)\n",
    "\n",
    "[Conclusion](#8)"
   ]
  },
  {
   "cell_type": "markdown",
   "metadata": {},
   "source": [
    "# Introduction <a id=1></a>"
   ]
  },
  {
   "cell_type": "markdown",
   "metadata": {},
   "source": [
    "I am a data scientist for **Zyfra**, a company that develops efficiency solutions for heavy industry. In this project, I prepare a prototype of a machine learning model that predicts the amount of gold recovered from ore. This model will help **Zyfra** optimize product, and eliminate unprofitable parameters. To help me build the model, I have data on the extraction and the purification of ore."
   ]
  },
  {
   "cell_type": "markdown",
   "metadata": {},
   "source": [
    "# Technological Process <a id=2></a>"
   ]
  },
  {
   "cell_type": "markdown",
   "metadata": {},
   "source": [
    "Gold is extracted from ore via the following process:\n",
    "\n",
    "Mined ore undergoes primary processing to get the **ore mixture** (also called the **rougher <u>feed</u>**), which is the raw material for **flotation** (also called the **rougher <u>process</u>**). \n",
    "\n",
    "Flotation is when gold (Au) ore mixture is fed into the float **banks**, which obtain either **rougher (gold) concentrate** or **rougher tails** (which are product residues with a low concentration of valuable metals).\n",
    "\n",
    "After flotation, the **rougher concentrate** undergoes two stages of purification, after which there are the final concentrate and new rougher tails. Note that the rougher tails might be identified during flotation or during one of the two purification stages."
   ]
  },
  {
   "cell_type": "code",
   "execution_count": 2,
   "metadata": {},
   "outputs": [
    {
     "data": {
      "text/html": [
       "<img src=\"https://practicum-content.s3.us-west-1.amazonaws.com/resources/moved_viruchka_2_1589899167.jpg\"/>"
      ],
      "text/plain": [
       "<IPython.core.display.Image object>"
      ]
     },
     "metadata": {},
     "output_type": "display_data"
    }
   ],
   "source": [
    "display(Image(url = 'https://practicum-content.s3.us-west-1.amazonaws.com/resources/moved_viruchka_2_1589899167.jpg'))"
   ]
  },
  {
   "cell_type": "markdown",
   "metadata": {},
   "source": [
    "# Data Description <a id=3></a>"
   ]
  },
  {
   "cell_type": "markdown",
   "metadata": {},
   "source": [
    "Regarding the technological process, note the following terms:\n",
    "\n",
    "<b>Rougher feed</b> — Raw material\n",
    "\n",
    "<b>Rougher additions</b> (also called flotation reagents) — <i>Xanthate</i>, <i>Sulphate</i>, <i>Depressant</i>\n",
    "\n",
    "- <i><b>Xanthate</b></i> — Promoter or flotation activator\n",
    "\n",
    "- <i><b>Sulphate</b></i> — Sodium sulphide for this particular process\n",
    "\n",
    "- <i><b>Depressant</b></i> — Sodium silicate\n",
    "\n",
    "<b>Rougher process</b> — Flotation\n",
    "\n",
    "<b>Rougher tails</b> — Product residues\n",
    "\n",
    "<b>Float banks</b> — Flotation unit\n",
    "\n",
    "<b>Cleaner process</b> — Purification\n",
    "\n",
    "<b>Rougher Au</b> — Rougher gold concentrate\n",
    "\n",
    "<b>Final Au</b> — Final gold concentrate"
   ]
  },
  {
   "cell_type": "markdown",
   "metadata": {},
   "source": [
    "# Feature Naming <a id=4></a>"
   ]
  },
  {
   "cell_type": "markdown",
   "metadata": {},
   "source": [
    "The features of my machine learning model are named using the following format: ```[stage].[parameter_type].[parameter_name]```\n",
    "\n",
    "Possible values for ```[stage]```:\n",
    "\n",
    "- <b>rougher</b> — Flotation\n",
    "\n",
    "- <b>primary_cleaner</b> — Primary purification\n",
    "\n",
    "- <b>secondary_cleaner</b> — Secondary purification\n",
    "\n",
    "- <b>final</b> — Final characteristics\n",
    "\n",
    "Possible values for ```[parameter_type]```:\n",
    "\n",
    "- <b>input</b> — Raw material parameters\n",
    "\n",
    "- <b>output</b> — Product parameters\n",
    "\n",
    "- <b>state</b> — Parameters characterizing the current state of the stage\n",
    "\n",
    "- <b>calculation</b> — Calculation characteristics\n",
    "\n",
    "Possible values for ```[parameter_name]```\n",
    "- <b>air_amount</b> — Volume of air\n",
    "- <b>fluid levels</b> — Levels of fluid\n",
    "- <b>feed_size</b> — Feed particle size\n",
    "- <b>feed_rate</b> — Feed particle rate"
   ]
  },
  {
   "cell_type": "code",
   "execution_count": 3,
   "metadata": {},
   "outputs": [
    {
     "data": {
      "text/html": [
       "<img src=\"https://practicum-content.s3.us-west-1.amazonaws.com/resources/moved_ore_1591699963.jpg\"/>"
      ],
      "text/plain": [
       "<IPython.core.display.Image object>"
      ]
     },
     "metadata": {},
     "output_type": "display_data"
    }
   ],
   "source": [
    "display(Image(url = 'https://practicum-content.s3.us-west-1.amazonaws.com/resources/moved_ore_1591699963.jpg'))"
   ]
  },
  {
   "cell_type": "markdown",
   "metadata": {},
   "source": [
    "One of the main goals of the project is to predict ```rougher.output.recovery``` and ```final.output.recovery``` because those will be used to calculate the <b>sMAPE</b> (symmetric Mean Absolute Percentage Error). For reference, the next lines display the formula used to calculate sMAPE, and its denotation."
   ]
  },
  {
   "cell_type": "code",
   "execution_count": 4,
   "metadata": {},
   "outputs": [
    {
     "data": {
      "text/html": [
       "<img src=\"https://practicum-content.s3.us-west-1.amazonaws.com/resources/moved_smape_1576238825_1589899257.jpg\"/>"
      ],
      "text/plain": [
       "<IPython.core.display.Image object>"
      ]
     },
     "metadata": {},
     "output_type": "display_data"
    }
   ],
   "source": [
    "display(Image(url = 'https://practicum-content.s3.us-west-1.amazonaws.com/resources/moved_smape_1576238825_1589899257.jpg'))"
   ]
  },
  {
   "cell_type": "code",
   "execution_count": 5,
   "metadata": {},
   "outputs": [
    {
     "data": {
      "text/html": [
       "<img src=\"https://practicum-content.s3.us-west-1.amazonaws.com/resources/moved_y1_1576238832_1589899414.jpg\"/>"
      ],
      "text/plain": [
       "<IPython.core.display.Image object>"
      ]
     },
     "metadata": {},
     "output_type": "display_data"
    }
   ],
   "source": [
    "display(Image(url = 'https://practicum-content.s3.us-west-1.amazonaws.com/resources/moved_y1_1576238832_1589899414.jpg'))"
   ]
  },
  {
   "cell_type": "markdown",
   "metadata": {},
   "source": [
    "The target value for the observation with index <b>i</b>."
   ]
  },
  {
   "cell_type": "code",
   "execution_count": 6,
   "metadata": {},
   "outputs": [
    {
     "data": {
      "text/html": [
       "<img src=\"https://practicum-content.s3.us-west-1.amazonaws.com/resources/moved_yi_1_1576238835_1589899461.jpg\"/>"
      ],
      "text/plain": [
       "<IPython.core.display.Image object>"
      ]
     },
     "metadata": {},
     "output_type": "display_data"
    }
   ],
   "source": [
    "display(Image(url = 'https://practicum-content.s3.us-west-1.amazonaws.com/resources/moved_yi_1_1576238835_1589899461.jpg'))"
   ]
  },
  {
   "cell_type": "markdown",
   "metadata": {},
   "source": [
    "The predicted value for the observation with index <b>i</b>."
   ]
  },
  {
   "cell_type": "code",
   "execution_count": 7,
   "metadata": {},
   "outputs": [
    {
     "data": {
      "text/html": [
       "<img src=\"https://practicum-content.s3.us-west-1.amazonaws.com/resources/moved_N_1_1576238819_1589899496.jpg\"/>"
      ],
      "text/plain": [
       "<IPython.core.display.Image object>"
      ]
     },
     "metadata": {},
     "output_type": "display_data"
    }
   ],
   "source": [
    "display(Image(url = 'https://practicum-content.s3.us-west-1.amazonaws.com/resources/moved_N_1_1576238819_1589899496.jpg'))"
   ]
  },
  {
   "cell_type": "markdown",
   "metadata": {},
   "source": [
    "The number of observations in the sample."
   ]
  },
  {
   "cell_type": "code",
   "execution_count": 8,
   "metadata": {},
   "outputs": [
    {
     "data": {
      "text/html": [
       "<img src=\"https://practicum-content.s3.us-west-1.amazonaws.com/resources/moved_I_1576238817_1589899530.jpg\"/>"
      ],
      "text/plain": [
       "<IPython.core.display.Image object>"
      ]
     },
     "metadata": {},
     "output_type": "display_data"
    }
   ],
   "source": [
    "display(Image(url = 'https://practicum-content.s3.us-west-1.amazonaws.com/resources/moved_I_1576238817_1589899530.jpg'))"
   ]
  },
  {
   "cell_type": "markdown",
   "metadata": {},
   "source": [
    "The summation over all observations in the sample (where <b>i</b> takes all values from 1 to N)."
   ]
  },
  {
   "cell_type": "markdown",
   "metadata": {},
   "source": [
    "# Section 1: Preparing the Data <a id=5></a>"
   ]
  },
  {
   "cell_type": "markdown",
   "metadata": {},
   "source": [
    "<b><u>PART A</u>: Opening the Files and Looking Into the Data</b> <a id=5.1></a>"
   ]
  },
  {
   "cell_type": "markdown",
   "metadata": {},
   "source": [
    "The data are stored in three files (a training set, a test set, and a combined set), which get read in the next line. It is worth noting that the data are indexed with the date and time of acquisition (date feature), and that parameters which are next to each other in terms of time are often similar.\n",
    "\n",
    "Furthermore, some parameters are not available because they were measured and/or calculated too late. Consequently, some of the features that are present in the training set are absent from the test set. Lastly, the test set does not contain the targets."
   ]
  },
  {
   "cell_type": "code",
   "execution_count": 9,
   "metadata": {},
   "outputs": [],
   "source": [
    "gold_recovery_train = pd.read_csv('/datasets/gold_recovery_train.csv')\n",
    "gold_recovery_test = pd.read_csv('/datasets/gold_recovery_test.csv')\n",
    "gold_recovery_full = pd.read_csv('/datasets/gold_recovery_full.csv')"
   ]
  },
  {
   "cell_type": "code",
   "execution_count": 10,
   "metadata": {},
   "outputs": [
    {
     "name": "stdout",
     "output_type": "stream",
     "text": [
      "<class 'pandas.core.frame.DataFrame'>\n",
      "RangeIndex: 16860 entries, 0 to 16859\n",
      "Data columns (total 87 columns):\n",
      " #   Column                                              Non-Null Count  Dtype  \n",
      "---  ------                                              --------------  -----  \n",
      " 0   date                                                16860 non-null  object \n",
      " 1   final.output.concentrate_ag                         16788 non-null  float64\n",
      " 2   final.output.concentrate_pb                         16788 non-null  float64\n",
      " 3   final.output.concentrate_sol                        16490 non-null  float64\n",
      " 4   final.output.concentrate_au                         16789 non-null  float64\n",
      " 5   final.output.recovery                               15339 non-null  float64\n",
      " 6   final.output.tail_ag                                16794 non-null  float64\n",
      " 7   final.output.tail_pb                                16677 non-null  float64\n",
      " 8   final.output.tail_sol                               16715 non-null  float64\n",
      " 9   final.output.tail_au                                16794 non-null  float64\n",
      " 10  primary_cleaner.input.sulfate                       15553 non-null  float64\n",
      " 11  primary_cleaner.input.depressant                    15598 non-null  float64\n",
      " 12  primary_cleaner.input.feed_size                     16860 non-null  float64\n",
      " 13  primary_cleaner.input.xanthate                      15875 non-null  float64\n",
      " 14  primary_cleaner.output.concentrate_ag               16778 non-null  float64\n",
      " 15  primary_cleaner.output.concentrate_pb               16502 non-null  float64\n",
      " 16  primary_cleaner.output.concentrate_sol              16224 non-null  float64\n",
      " 17  primary_cleaner.output.concentrate_au               16778 non-null  float64\n",
      " 18  primary_cleaner.output.tail_ag                      16777 non-null  float64\n",
      " 19  primary_cleaner.output.tail_pb                      16761 non-null  float64\n",
      " 20  primary_cleaner.output.tail_sol                     16579 non-null  float64\n",
      " 21  primary_cleaner.output.tail_au                      16777 non-null  float64\n",
      " 22  primary_cleaner.state.floatbank8_a_air              16820 non-null  float64\n",
      " 23  primary_cleaner.state.floatbank8_a_level            16827 non-null  float64\n",
      " 24  primary_cleaner.state.floatbank8_b_air              16820 non-null  float64\n",
      " 25  primary_cleaner.state.floatbank8_b_level            16833 non-null  float64\n",
      " 26  primary_cleaner.state.floatbank8_c_air              16822 non-null  float64\n",
      " 27  primary_cleaner.state.floatbank8_c_level            16833 non-null  float64\n",
      " 28  primary_cleaner.state.floatbank8_d_air              16821 non-null  float64\n",
      " 29  primary_cleaner.state.floatbank8_d_level            16833 non-null  float64\n",
      " 30  rougher.calculation.sulfate_to_au_concentrate       16833 non-null  float64\n",
      " 31  rougher.calculation.floatbank10_sulfate_to_au_feed  16833 non-null  float64\n",
      " 32  rougher.calculation.floatbank11_sulfate_to_au_feed  16833 non-null  float64\n",
      " 33  rougher.calculation.au_pb_ratio                     15618 non-null  float64\n",
      " 34  rougher.input.feed_ag                               16778 non-null  float64\n",
      " 35  rougher.input.feed_pb                               16632 non-null  float64\n",
      " 36  rougher.input.feed_rate                             16347 non-null  float64\n",
      " 37  rougher.input.feed_size                             16443 non-null  float64\n",
      " 38  rougher.input.feed_sol                              16568 non-null  float64\n",
      " 39  rougher.input.feed_au                               16777 non-null  float64\n",
      " 40  rougher.input.floatbank10_sulfate                   15816 non-null  float64\n",
      " 41  rougher.input.floatbank10_xanthate                  16514 non-null  float64\n",
      " 42  rougher.input.floatbank11_sulfate                   16237 non-null  float64\n",
      " 43  rougher.input.floatbank11_xanthate                  14956 non-null  float64\n",
      " 44  rougher.output.concentrate_ag                       16778 non-null  float64\n",
      " 45  rougher.output.concentrate_pb                       16778 non-null  float64\n",
      " 46  rougher.output.concentrate_sol                      16698 non-null  float64\n",
      " 47  rougher.output.concentrate_au                       16778 non-null  float64\n",
      " 48  rougher.output.recovery                             14287 non-null  float64\n",
      " 49  rougher.output.tail_ag                              14610 non-null  float64\n",
      " 50  rougher.output.tail_pb                              16778 non-null  float64\n",
      " 51  rougher.output.tail_sol                             14611 non-null  float64\n",
      " 52  rougher.output.tail_au                              14611 non-null  float64\n",
      " 53  rougher.state.floatbank10_a_air                     16807 non-null  float64\n",
      " 54  rougher.state.floatbank10_a_level                   16807 non-null  float64\n",
      " 55  rougher.state.floatbank10_b_air                     16807 non-null  float64\n",
      " 56  rougher.state.floatbank10_b_level                   16807 non-null  float64\n",
      " 57  rougher.state.floatbank10_c_air                     16807 non-null  float64\n",
      " 58  rougher.state.floatbank10_c_level                   16814 non-null  float64\n",
      " 59  rougher.state.floatbank10_d_air                     16802 non-null  float64\n",
      " 60  rougher.state.floatbank10_d_level                   16809 non-null  float64\n",
      " 61  rougher.state.floatbank10_e_air                     16257 non-null  float64\n",
      " 62  rougher.state.floatbank10_e_level                   16809 non-null  float64\n",
      " 63  rougher.state.floatbank10_f_air                     16802 non-null  float64\n",
      " 64  rougher.state.floatbank10_f_level                   16802 non-null  float64\n",
      " 65  secondary_cleaner.output.tail_ag                    16776 non-null  float64\n",
      " 66  secondary_cleaner.output.tail_pb                    16764 non-null  float64\n",
      " 67  secondary_cleaner.output.tail_sol                   14874 non-null  float64\n",
      " 68  secondary_cleaner.output.tail_au                    16778 non-null  float64\n",
      " 69  secondary_cleaner.state.floatbank2_a_air            16497 non-null  float64\n",
      " 70  secondary_cleaner.state.floatbank2_a_level          16751 non-null  float64\n",
      " 71  secondary_cleaner.state.floatbank2_b_air            16705 non-null  float64\n",
      " 72  secondary_cleaner.state.floatbank2_b_level          16748 non-null  float64\n",
      " 73  secondary_cleaner.state.floatbank3_a_air            16763 non-null  float64\n",
      " 74  secondary_cleaner.state.floatbank3_a_level          16747 non-null  float64\n",
      " 75  secondary_cleaner.state.floatbank3_b_air            16752 non-null  float64\n",
      " 76  secondary_cleaner.state.floatbank3_b_level          16750 non-null  float64\n",
      " 77  secondary_cleaner.state.floatbank4_a_air            16731 non-null  float64\n",
      " 78  secondary_cleaner.state.floatbank4_a_level          16747 non-null  float64\n",
      " 79  secondary_cleaner.state.floatbank4_b_air            16768 non-null  float64\n",
      " 80  secondary_cleaner.state.floatbank4_b_level          16767 non-null  float64\n",
      " 81  secondary_cleaner.state.floatbank5_a_air            16775 non-null  float64\n",
      " 82  secondary_cleaner.state.floatbank5_a_level          16775 non-null  float64\n",
      " 83  secondary_cleaner.state.floatbank5_b_air            16775 non-null  float64\n",
      " 84  secondary_cleaner.state.floatbank5_b_level          16776 non-null  float64\n",
      " 85  secondary_cleaner.state.floatbank6_a_air            16757 non-null  float64\n",
      " 86  secondary_cleaner.state.floatbank6_a_level          16775 non-null  float64\n",
      "dtypes: float64(86), object(1)\n",
      "memory usage: 11.2+ MB\n"
     ]
    }
   ],
   "source": [
    "gold_recovery_train.info()"
   ]
  },
  {
   "cell_type": "code",
   "execution_count": 11,
   "metadata": {},
   "outputs": [
    {
     "name": "stdout",
     "output_type": "stream",
     "text": [
      "<class 'pandas.core.frame.DataFrame'>\n",
      "RangeIndex: 5856 entries, 0 to 5855\n",
      "Data columns (total 53 columns):\n",
      " #   Column                                      Non-Null Count  Dtype  \n",
      "---  ------                                      --------------  -----  \n",
      " 0   date                                        5856 non-null   object \n",
      " 1   primary_cleaner.input.sulfate               5554 non-null   float64\n",
      " 2   primary_cleaner.input.depressant            5572 non-null   float64\n",
      " 3   primary_cleaner.input.feed_size             5856 non-null   float64\n",
      " 4   primary_cleaner.input.xanthate              5690 non-null   float64\n",
      " 5   primary_cleaner.state.floatbank8_a_air      5840 non-null   float64\n",
      " 6   primary_cleaner.state.floatbank8_a_level    5840 non-null   float64\n",
      " 7   primary_cleaner.state.floatbank8_b_air      5840 non-null   float64\n",
      " 8   primary_cleaner.state.floatbank8_b_level    5840 non-null   float64\n",
      " 9   primary_cleaner.state.floatbank8_c_air      5840 non-null   float64\n",
      " 10  primary_cleaner.state.floatbank8_c_level    5840 non-null   float64\n",
      " 11  primary_cleaner.state.floatbank8_d_air      5840 non-null   float64\n",
      " 12  primary_cleaner.state.floatbank8_d_level    5840 non-null   float64\n",
      " 13  rougher.input.feed_ag                       5840 non-null   float64\n",
      " 14  rougher.input.feed_pb                       5840 non-null   float64\n",
      " 15  rougher.input.feed_rate                     5816 non-null   float64\n",
      " 16  rougher.input.feed_size                     5834 non-null   float64\n",
      " 17  rougher.input.feed_sol                      5789 non-null   float64\n",
      " 18  rougher.input.feed_au                       5840 non-null   float64\n",
      " 19  rougher.input.floatbank10_sulfate           5599 non-null   float64\n",
      " 20  rougher.input.floatbank10_xanthate          5733 non-null   float64\n",
      " 21  rougher.input.floatbank11_sulfate           5801 non-null   float64\n",
      " 22  rougher.input.floatbank11_xanthate          5503 non-null   float64\n",
      " 23  rougher.state.floatbank10_a_air             5839 non-null   float64\n",
      " 24  rougher.state.floatbank10_a_level           5840 non-null   float64\n",
      " 25  rougher.state.floatbank10_b_air             5839 non-null   float64\n",
      " 26  rougher.state.floatbank10_b_level           5840 non-null   float64\n",
      " 27  rougher.state.floatbank10_c_air             5839 non-null   float64\n",
      " 28  rougher.state.floatbank10_c_level           5840 non-null   float64\n",
      " 29  rougher.state.floatbank10_d_air             5839 non-null   float64\n",
      " 30  rougher.state.floatbank10_d_level           5840 non-null   float64\n",
      " 31  rougher.state.floatbank10_e_air             5839 non-null   float64\n",
      " 32  rougher.state.floatbank10_e_level           5840 non-null   float64\n",
      " 33  rougher.state.floatbank10_f_air             5839 non-null   float64\n",
      " 34  rougher.state.floatbank10_f_level           5840 non-null   float64\n",
      " 35  secondary_cleaner.state.floatbank2_a_air    5836 non-null   float64\n",
      " 36  secondary_cleaner.state.floatbank2_a_level  5840 non-null   float64\n",
      " 37  secondary_cleaner.state.floatbank2_b_air    5833 non-null   float64\n",
      " 38  secondary_cleaner.state.floatbank2_b_level  5840 non-null   float64\n",
      " 39  secondary_cleaner.state.floatbank3_a_air    5822 non-null   float64\n",
      " 40  secondary_cleaner.state.floatbank3_a_level  5840 non-null   float64\n",
      " 41  secondary_cleaner.state.floatbank3_b_air    5840 non-null   float64\n",
      " 42  secondary_cleaner.state.floatbank3_b_level  5840 non-null   float64\n",
      " 43  secondary_cleaner.state.floatbank4_a_air    5840 non-null   float64\n",
      " 44  secondary_cleaner.state.floatbank4_a_level  5840 non-null   float64\n",
      " 45  secondary_cleaner.state.floatbank4_b_air    5840 non-null   float64\n",
      " 46  secondary_cleaner.state.floatbank4_b_level  5840 non-null   float64\n",
      " 47  secondary_cleaner.state.floatbank5_a_air    5840 non-null   float64\n",
      " 48  secondary_cleaner.state.floatbank5_a_level  5840 non-null   float64\n",
      " 49  secondary_cleaner.state.floatbank5_b_air    5840 non-null   float64\n",
      " 50  secondary_cleaner.state.floatbank5_b_level  5840 non-null   float64\n",
      " 51  secondary_cleaner.state.floatbank6_a_air    5840 non-null   float64\n",
      " 52  secondary_cleaner.state.floatbank6_a_level  5840 non-null   float64\n",
      "dtypes: float64(52), object(1)\n",
      "memory usage: 2.4+ MB\n"
     ]
    }
   ],
   "source": [
    "gold_recovery_test.info()"
   ]
  },
  {
   "cell_type": "code",
   "execution_count": 12,
   "metadata": {},
   "outputs": [
    {
     "name": "stdout",
     "output_type": "stream",
     "text": [
      "<class 'pandas.core.frame.DataFrame'>\n",
      "RangeIndex: 22716 entries, 0 to 22715\n",
      "Data columns (total 87 columns):\n",
      " #   Column                                              Non-Null Count  Dtype  \n",
      "---  ------                                              --------------  -----  \n",
      " 0   date                                                22716 non-null  object \n",
      " 1   final.output.concentrate_ag                         22627 non-null  float64\n",
      " 2   final.output.concentrate_pb                         22629 non-null  float64\n",
      " 3   final.output.concentrate_sol                        22331 non-null  float64\n",
      " 4   final.output.concentrate_au                         22630 non-null  float64\n",
      " 5   final.output.recovery                               20753 non-null  float64\n",
      " 6   final.output.tail_ag                                22633 non-null  float64\n",
      " 7   final.output.tail_pb                                22516 non-null  float64\n",
      " 8   final.output.tail_sol                               22445 non-null  float64\n",
      " 9   final.output.tail_au                                22635 non-null  float64\n",
      " 10  primary_cleaner.input.sulfate                       21107 non-null  float64\n",
      " 11  primary_cleaner.input.depressant                    21170 non-null  float64\n",
      " 12  primary_cleaner.input.feed_size                     22716 non-null  float64\n",
      " 13  primary_cleaner.input.xanthate                      21565 non-null  float64\n",
      " 14  primary_cleaner.output.concentrate_ag               22618 non-null  float64\n",
      " 15  primary_cleaner.output.concentrate_pb               22268 non-null  float64\n",
      " 16  primary_cleaner.output.concentrate_sol              21918 non-null  float64\n",
      " 17  primary_cleaner.output.concentrate_au               22618 non-null  float64\n",
      " 18  primary_cleaner.output.tail_ag                      22614 non-null  float64\n",
      " 19  primary_cleaner.output.tail_pb                      22594 non-null  float64\n",
      " 20  primary_cleaner.output.tail_sol                     22365 non-null  float64\n",
      " 21  primary_cleaner.output.tail_au                      22617 non-null  float64\n",
      " 22  primary_cleaner.state.floatbank8_a_air              22660 non-null  float64\n",
      " 23  primary_cleaner.state.floatbank8_a_level            22667 non-null  float64\n",
      " 24  primary_cleaner.state.floatbank8_b_air              22660 non-null  float64\n",
      " 25  primary_cleaner.state.floatbank8_b_level            22673 non-null  float64\n",
      " 26  primary_cleaner.state.floatbank8_c_air              22662 non-null  float64\n",
      " 27  primary_cleaner.state.floatbank8_c_level            22673 non-null  float64\n",
      " 28  primary_cleaner.state.floatbank8_d_air              22661 non-null  float64\n",
      " 29  primary_cleaner.state.floatbank8_d_level            22673 non-null  float64\n",
      " 30  rougher.calculation.sulfate_to_au_concentrate       22672 non-null  float64\n",
      " 31  rougher.calculation.floatbank10_sulfate_to_au_feed  22672 non-null  float64\n",
      " 32  rougher.calculation.floatbank11_sulfate_to_au_feed  22672 non-null  float64\n",
      " 33  rougher.calculation.au_pb_ratio                     21089 non-null  float64\n",
      " 34  rougher.input.feed_ag                               22618 non-null  float64\n",
      " 35  rougher.input.feed_pb                               22472 non-null  float64\n",
      " 36  rougher.input.feed_rate                             22163 non-null  float64\n",
      " 37  rougher.input.feed_size                             22277 non-null  float64\n",
      " 38  rougher.input.feed_sol                              22357 non-null  float64\n",
      " 39  rougher.input.feed_au                               22617 non-null  float64\n",
      " 40  rougher.input.floatbank10_sulfate                   21415 non-null  float64\n",
      " 41  rougher.input.floatbank10_xanthate                  22247 non-null  float64\n",
      " 42  rougher.input.floatbank11_sulfate                   22038 non-null  float64\n",
      " 43  rougher.input.floatbank11_xanthate                  20459 non-null  float64\n",
      " 44  rougher.output.concentrate_ag                       22618 non-null  float64\n",
      " 45  rougher.output.concentrate_pb                       22618 non-null  float64\n",
      " 46  rougher.output.concentrate_sol                      22526 non-null  float64\n",
      " 47  rougher.output.concentrate_au                       22618 non-null  float64\n",
      " 48  rougher.output.recovery                             19597 non-null  float64\n",
      " 49  rougher.output.tail_ag                              19979 non-null  float64\n",
      " 50  rougher.output.tail_pb                              22618 non-null  float64\n",
      " 51  rougher.output.tail_sol                             19980 non-null  float64\n",
      " 52  rougher.output.tail_au                              19980 non-null  float64\n",
      " 53  rougher.state.floatbank10_a_air                     22646 non-null  float64\n",
      " 54  rougher.state.floatbank10_a_level                   22647 non-null  float64\n",
      " 55  rougher.state.floatbank10_b_air                     22646 non-null  float64\n",
      " 56  rougher.state.floatbank10_b_level                   22647 non-null  float64\n",
      " 57  rougher.state.floatbank10_c_air                     22646 non-null  float64\n",
      " 58  rougher.state.floatbank10_c_level                   22654 non-null  float64\n",
      " 59  rougher.state.floatbank10_d_air                     22641 non-null  float64\n",
      " 60  rougher.state.floatbank10_d_level                   22649 non-null  float64\n",
      " 61  rougher.state.floatbank10_e_air                     22096 non-null  float64\n",
      " 62  rougher.state.floatbank10_e_level                   22649 non-null  float64\n",
      " 63  rougher.state.floatbank10_f_air                     22641 non-null  float64\n",
      " 64  rougher.state.floatbank10_f_level                   22642 non-null  float64\n",
      " 65  secondary_cleaner.output.tail_ag                    22616 non-null  float64\n",
      " 66  secondary_cleaner.output.tail_pb                    22600 non-null  float64\n",
      " 67  secondary_cleaner.output.tail_sol                   20501 non-null  float64\n",
      " 68  secondary_cleaner.output.tail_au                    22618 non-null  float64\n",
      " 69  secondary_cleaner.state.floatbank2_a_air            22333 non-null  float64\n",
      " 70  secondary_cleaner.state.floatbank2_a_level          22591 non-null  float64\n",
      " 71  secondary_cleaner.state.floatbank2_b_air            22538 non-null  float64\n",
      " 72  secondary_cleaner.state.floatbank2_b_level          22588 non-null  float64\n",
      " 73  secondary_cleaner.state.floatbank3_a_air            22585 non-null  float64\n",
      " 74  secondary_cleaner.state.floatbank3_a_level          22587 non-null  float64\n",
      " 75  secondary_cleaner.state.floatbank3_b_air            22592 non-null  float64\n",
      " 76  secondary_cleaner.state.floatbank3_b_level          22590 non-null  float64\n",
      " 77  secondary_cleaner.state.floatbank4_a_air            22571 non-null  float64\n",
      " 78  secondary_cleaner.state.floatbank4_a_level          22587 non-null  float64\n",
      " 79  secondary_cleaner.state.floatbank4_b_air            22608 non-null  float64\n",
      " 80  secondary_cleaner.state.floatbank4_b_level          22607 non-null  float64\n",
      " 81  secondary_cleaner.state.floatbank5_a_air            22615 non-null  float64\n",
      " 82  secondary_cleaner.state.floatbank5_a_level          22615 non-null  float64\n",
      " 83  secondary_cleaner.state.floatbank5_b_air            22615 non-null  float64\n",
      " 84  secondary_cleaner.state.floatbank5_b_level          22616 non-null  float64\n",
      " 85  secondary_cleaner.state.floatbank6_a_air            22597 non-null  float64\n",
      " 86  secondary_cleaner.state.floatbank6_a_level          22615 non-null  float64\n",
      "dtypes: float64(86), object(1)\n",
      "memory usage: 15.1+ MB\n"
     ]
    }
   ],
   "source": [
    "gold_recovery_full.info()"
   ]
  },
  {
   "cell_type": "markdown",
   "metadata": {},
   "source": [
    "Except for **date**, all of the columns have Dtype float64, which makes sense because those are all quantitative features. As expected, there are many null values. Lastly, I'll mention that it makes sense for the **gold_recovery_full** dataframe to have 22,716 entries because **gold_recovery_train** has 16,860 entries and **gold_recovery_test** has 5,856 entries."
   ]
  },
  {
   "cell_type": "markdown",
   "metadata": {},
   "source": [
    "<b><u>PART B</u>: Checking That Recovery Is Calculated Correctly </b> <a id=5.2></a>"
   ]
  },
  {
   "cell_type": "markdown",
   "metadata": {},
   "source": [
    "Using the training set, I will now calculate recovery for the ```rougher.output.recovery``` feature. \n",
    "\n",
    "I will also find the MAE between the values that are in the dataframe and my calculations, and note any important findings.\n",
    "\n",
    "For reference, the next line displays the formula used to calculate recovery."
   ]
  },
  {
   "cell_type": "code",
   "execution_count": 13,
   "metadata": {},
   "outputs": [
    {
     "data": {
      "text/html": [
       "<img src=\"https://practicum-content.s3.us-west-1.amazonaws.com/resources/moved_Recovery_1576238822_1589899219.jpg\"/>"
      ],
      "text/plain": [
       "<IPython.core.display.Image object>"
      ]
     },
     "metadata": {},
     "output_type": "display_data"
    }
   ],
   "source": [
    "display(Image(url='https://practicum-content.s3.us-west-1.amazonaws.com/resources/moved_Recovery_1576238822_1589899219.jpg'))"
   ]
  },
  {
   "cell_type": "markdown",
   "metadata": {},
   "source": [
    "When the gold ore mixture gets to <b>flotation</b>, the variables mean the following:\n",
    "\n",
    "F — The share of gold in the feed before flotation\n",
    "\n",
    "C — The share of gold in the concentrate right after flotation\n",
    "\n",
    "T — The share of gold in the rougher tails right after flotation\n",
    "\n",
    "When the rougher concentrate gets to the <b>first stage of the cleaner process</b>, the variables mean the following:\n",
    "\n",
    "F — The share of gold in the concentrate before the first stage of the cleaner process\n",
    "\n",
    "C — The share of gold in the concentrate after the first stage of the cleaner process\n",
    "\n",
    "T — The share of gold in the rougher tails after the first stage of the cleaner process\n",
    "\n",
    "When the rougher concentrate gets to the <b>second stage of the cleaner process</b>, the variables mean the following:\n",
    "\n",
    "F — The share of gold in the concentrate before the second stage of the cleaner process\n",
    "\n",
    "C — The share of gold in the concentrate after the second stage of the cleaner process\n",
    "\n",
    "T — The share of gold in the rougher tails after the second stage of the cleaner process"
   ]
  },
  {
   "cell_type": "code",
   "execution_count": 14,
   "metadata": {},
   "outputs": [],
   "source": [
    "def recovery(c_values, f_values, t_values):\n",
    "    numerator = c_values * (f_values - t_values)\n",
    "    denominator = f_values * (c_values - t_values)\n",
    "    r_values = numerator / denominator * 100\n",
    "    return r_values"
   ]
  },
  {
   "cell_type": "code",
   "execution_count": 15,
   "metadata": {},
   "outputs": [
    {
     "name": "stdout",
     "output_type": "stream",
     "text": [
      "The mean absolute error between the recovery values that are in the training dataframe and my calculations is...\n",
      "9.303415616264301e-15\n"
     ]
    }
   ],
   "source": [
    "rougher_output_recovery_calculated = recovery(gold_recovery_train['rougher.output.concentrate_au'].copy(), \n",
    "                                              gold_recovery_train['rougher.input.feed_au'].copy(), \n",
    "                                              gold_recovery_train['rougher.output.tail_au'].copy())\n",
    "\n",
    "print(\"The mean absolute error between the recovery values that are in the training dataframe and my calculations is...\")\n",
    "print(np.abs(gold_recovery_train['rougher.output.recovery'].copy() - rougher_output_recovery_calculated).mean())"
   ]
  },
  {
   "cell_type": "markdown",
   "metadata": {},
   "source": [
    "This is a great result! 9.303415616264301e-15 is a number that is ***so close*** to 0, to the point that there is practically no difference between the recovery values as they appear in the **gold_recovery_train** dataframe compared to how they appear in my calculations."
   ]
  },
  {
   "cell_type": "markdown",
   "metadata": {},
   "source": [
    "<b><u>PART C</u>: Analyzing the Features Not Available In the Test Set</b> <a id=5.3></a>"
   ]
  },
  {
   "cell_type": "code",
   "execution_count": 16,
   "metadata": {},
   "outputs": [
    {
     "name": "stdout",
     "output_type": "stream",
     "text": [
      "The following features are not available in the test set:\n",
      "\n",
      "final.output.concentrate_ag\n",
      "final.output.concentrate_au\n",
      "final.output.concentrate_pb\n",
      "final.output.concentrate_sol\n",
      "final.output.recovery\n",
      "final.output.tail_ag\n",
      "final.output.tail_au\n",
      "final.output.tail_pb\n",
      "final.output.tail_sol\n",
      "primary_cleaner.output.concentrate_ag\n",
      "primary_cleaner.output.concentrate_au\n",
      "primary_cleaner.output.concentrate_pb\n",
      "primary_cleaner.output.concentrate_sol\n",
      "primary_cleaner.output.tail_ag\n",
      "primary_cleaner.output.tail_au\n",
      "primary_cleaner.output.tail_pb\n",
      "primary_cleaner.output.tail_sol\n",
      "rougher.calculation.au_pb_ratio\n",
      "rougher.calculation.floatbank10_sulfate_to_au_feed\n",
      "rougher.calculation.floatbank11_sulfate_to_au_feed\n",
      "rougher.calculation.sulfate_to_au_concentrate\n",
      "rougher.output.concentrate_ag\n",
      "rougher.output.concentrate_au\n",
      "rougher.output.concentrate_pb\n",
      "rougher.output.concentrate_sol\n",
      "rougher.output.recovery\n",
      "rougher.output.tail_ag\n",
      "rougher.output.tail_au\n",
      "rougher.output.tail_pb\n",
      "rougher.output.tail_sol\n",
      "secondary_cleaner.output.tail_ag\n",
      "secondary_cleaner.output.tail_au\n",
      "secondary_cleaner.output.tail_pb\n",
      "secondary_cleaner.output.tail_sol\n"
     ]
    }
   ],
   "source": [
    "print(\"The following features are not available in the test set:\") \n",
    "print()\n",
    "for feature in sorted(gold_recovery_train.columns.difference(gold_recovery_test.columns)):\n",
    "    print(feature)"
   ]
  },
  {
   "cell_type": "markdown",
   "metadata": {},
   "source": [
    "Since **date** is the only feature whose Dtype is not float64, then all 34 of the above features have Dtype float64.\n",
    "\n",
    "Notice that all 34 of these features are either output values of stages of the extraction process or are values that are calculated based on those output values. Consequently, the **gold_recovery_test** dataframe only has the first of eight sets of values listed in the first image of the **Feature Naming** section.\n",
    "\n",
    "Most notably, the ```rougher.output.concentrate_au``` (i.e. the C values) and ```rougher.output.tail_au``` (i.e. the T values) are missing, meaning that at the moment I am unable to calculate the ```rougher.output.recovery``` values since only the ```rougher.input.feed_au``` (i.e. F) values are known. I bring this up because ```rougher.output.recovery``` is one of the targets.\n",
    "\n",
    "The key takeaway from this realization is that when I build and train the machine learning model, I cannot use the above features because then the model would be unable to predict the target values of the test set. Perhaps it goes without saying, but I **can** use the target values of the training set, which are ```rougher.output.recovery``` and ```final.output.recovery```, to help train the model."
   ]
  },
  {
   "cell_type": "markdown",
   "metadata": {},
   "source": [
    "<b><u>PART D</u>: Performing Data Preprocessing</b> <a id=5.4></a>"
   ]
  },
  {
   "cell_type": "markdown",
   "metadata": {},
   "source": [
    "When preprocessing data, it is always a good idea to check if any of the dataframes have rows that are exact duplicates. If so, then the duplicates should be dropped because it is extremely unlikely that a dataframe with so many columns would have two or more rows that coincidentally have all the same values.\n",
    "\n",
    "I use the **len** function on the next line because it counts how many rows a dataframe has. "
   ]
  },
  {
   "cell_type": "code",
   "execution_count": 17,
   "metadata": {},
   "outputs": [
    {
     "name": "stdout",
     "output_type": "stream",
     "text": [
      "The training set has 0 duplicate rows.\n",
      "\n",
      "The test set has 0 duplicate rows.\n",
      "\n",
      "The full set has 0 duplicate rows.\n"
     ]
    }
   ],
   "source": [
    "print(\"The training set has\", len(gold_recovery_train[gold_recovery_train.duplicated()]), \"duplicate rows.\")\n",
    "print()\n",
    "print(\"The test set has\", len(gold_recovery_test[gold_recovery_test.duplicated()]), \"duplicate rows.\")\n",
    "print()\n",
    "print(\"The full set has\", len(gold_recovery_full[gold_recovery_full.duplicated()]), \"duplicate rows.\")"
   ]
  },
  {
   "cell_type": "markdown",
   "metadata": {},
   "source": [
    "Great! It turns out that none of the three dataframes have any rows that are exact duplicates."
   ]
  },
  {
   "cell_type": "markdown",
   "metadata": {},
   "source": [
    "Whenever a dataframe has columns with null values, a data scientist must decide what to do with the null values. \n",
    "\n",
    "Sometimes it is appropriate to drop the rows that have null values, whereas other times it is more appropriate to replace the null values with a particular value, such as the median value of the corresponding column.\n",
    "\n",
    "When dealing with null target values, in this case ```rougher.output.recovery``` and ```final.output.recovery```, the corresponding rows should be dropped before doing anything with the null values of the features columns. Dropping them is better than filling them because I would be unable to accurately estimate the model's performance if the null targets values were filled instead of dropped.\n",
    "\n",
    "In contrast, I will fill the null features values using the forward fill method because the project description states, <i>\"Parameters that are next to each other in terms of time are often similar\"</i>, and I noticed that the rows of the dataframe are already in chronological order by date."
   ]
  },
  {
   "cell_type": "code",
   "execution_count": 18,
   "metadata": {},
   "outputs": [],
   "source": [
    "gold_recovery_train = gold_recovery_train[~gold_recovery_train['rougher.output.recovery'].isna()]\n",
    "gold_recovery_train = gold_recovery_train[~gold_recovery_train['final.output.recovery'].isna()];"
   ]
  },
  {
   "cell_type": "code",
   "execution_count": 19,
   "metadata": {},
   "outputs": [],
   "source": [
    "gold_recovery_train = gold_recovery_train.fillna(method = 'ffill')\n",
    "gold_recovery_test = gold_recovery_test.fillna(method = 'ffill')"
   ]
  },
  {
   "cell_type": "markdown",
   "metadata": {},
   "source": [
    "# Section 2: Analyzing the Data <a id=6></a>"
   ]
  },
  {
   "cell_type": "markdown",
   "metadata": {},
   "source": [
    "<b><u>PART A</u>: Noting Changes In Concentrations of Metals Depending On the Purification Stage</b> <a id=6.1></a>"
   ]
  },
  {
   "cell_type": "markdown",
   "metadata": {},
   "source": [
    "As suggested by the subheading, I am interested in seeing how the concentrations of not only gold (Au), but also silver (Ag) and lead (Pb) change as a result of the two purification stages. \n",
    "\n",
    "For each metal, I will look at the distributions of the values from their corresponding **rougher.output.concentrate**, **primary_cleaner.output.concentrate**, and **final.output.concentrate** columns. The **describe** function as well as boxplots are what I will use. I will start with gold because that is the metal **Zyfra** is most interested in, followed by lead, then silver.\n",
    "\n",
    "Even though the **rougher.output.concentrate** values are actually from after the floation stage rather than either of the purification stages, it is useful to know what the concentrate was both before and after the first purification stage.\n",
    "\n",
    "I decided not to examine the **primary_cleaner.output.tail** and **secondary_cleaner.output.tail_au** values largely because those columns do not appear to have the same units as the three mentioned above. \n",
    "\n",
    "I suspect that the word \"***concentrate***\" in this context is synonymous with saying \"***the percentage of the ore mixture that is composed of that particular metal***\". I get the impression that the rougher tails values are not expressed as percentages, but rather in units such as grams. Hence, I should not mix together values that are of different units.\n",
    "\n",
    "Lastly, I have no choice but to use the **gold_recovery_train** dataframe and not **gold_recovery_test** because it is missing the concentrate features."
   ]
  },
  {
   "cell_type": "code",
   "execution_count": 20,
   "metadata": {},
   "outputs": [
    {
     "name": "stdout",
     "output_type": "stream",
     "text": [
      "The summary statistics of the values of the concentrate of gold after flotation are:\n",
      "count    14149.000000\n",
      "mean        19.439958\n",
      "std          3.765192\n",
      "min          0.000000\n",
      "25%         18.432161\n",
      "50%         19.947312\n",
      "75%         21.392714\n",
      "max         28.146838\n",
      "Name: rougher.output.concentrate_au, dtype: float64\n",
      "\n",
      "The summary statistics of the values of the concentrate of gold after the 1st purification stage are:\n",
      "count    14149.000000\n",
      "mean        32.386836\n",
      "std          5.798843\n",
      "min          0.000000\n",
      "25%         30.857764\n",
      "50%         33.225835\n",
      "75%         35.330145\n",
      "max         45.933934\n",
      "Name: primary_cleaner.output.concentrate_au, dtype: float64\n",
      "\n",
      "The summary statistics of the values of the concentrate of gold after the 2nd purification stage are:\n",
      "count    14149.000000\n",
      "mean        44.003792\n",
      "std          4.905261\n",
      "min          0.000000\n",
      "25%         43.276111\n",
      "50%         44.872436\n",
      "75%         46.166425\n",
      "max         52.756638\n",
      "Name: final.output.concentrate_au, dtype: float64\n"
     ]
    }
   ],
   "source": [
    "print(\"The summary statistics of the values of the concentrate of gold after flotation are:\")\n",
    "print(gold_recovery_train['rougher.output.concentrate_au'].describe())\n",
    "print()\n",
    "print(\"The summary statistics of the values of the concentrate of gold after the 1st purification stage are:\")\n",
    "print(gold_recovery_train['primary_cleaner.output.concentrate_au'].describe())\n",
    "print()\n",
    "print(\"The summary statistics of the values of the concentrate of gold after the 2nd purification stage are:\")\n",
    "print(gold_recovery_train['final.output.concentrate_au'].describe())"
   ]
  },
  {
   "cell_type": "markdown",
   "metadata": {},
   "source": [
    "I would like to build a singular plot that contains the boxplots of all three of the above sets of summary statistics. To do this, I will first make a new dataframe. "
   ]
  },
  {
   "cell_type": "code",
   "execution_count": 21,
   "metadata": {},
   "outputs": [],
   "source": [
    "df_for_au_boxplot = pd.DataFrame()\n",
    "\n",
    "df_for_au_boxplot['concentrate_au'] = pd.concat([gold_recovery_train['rougher.output.concentrate_au'].copy(),\n",
    "                                                 gold_recovery_train['primary_cleaner.output.concentrate_au'].copy(),\n",
    "                                                 gold_recovery_train['final.output.concentrate_au'].copy()], \n",
    "                                                 ignore_index = True)\n",
    "\n",
    "df_for_au_boxplot['which_step'] = pd.concat([pd.Series(['flotation_output']*len(gold_recovery_train), name = 'step'),\n",
    "                                             pd.Series(['primary_cleaner_output']*len(gold_recovery_train), name = 'step'),\n",
    "                                             pd.Series(['final_output']*len(gold_recovery_train), name = 'step')],\n",
    "                                             ignore_index = True)"
   ]
  },
  {
   "cell_type": "code",
   "execution_count": 22,
   "metadata": {},
   "outputs": [
    {
     "data": {
      "image/png": "[encoded data removed]",
      "text/plain": [
       "<Figure size 864x432 with 1 Axes>"
      ]
     },
     "metadata": {
      "needs_background": "light"
     },
     "output_type": "display_data"
    }
   ],
   "source": [
    "plt.figure(figsize = (12, 6))\n",
    "boxplot_concentrate_au = sns.boxplot(data = df_for_au_boxplot, orient = 'h', x = 'concentrate_au', y = 'which_step')\n",
    "plt.title('Boxplot of the Concentrate of Gold (Au) After Different Steps of the Extraction Process')\n",
    "plt.xlabel('Concentrate of Gold (Au)')\n",
    "plt.xticks([0, 5, 10, 15, 20, 25, 30, 35, 40, 45, 50, 55])\n",
    "plt.ylabel('')\n",
    "boxplot_concentrate_au.set_yticklabels(['After Flotation', 'After 1st Purification Stage', 'After 2nd Purification Stage'])\n",
    "plt.show()"
   ]
  },
  {
   "cell_type": "markdown",
   "metadata": {},
   "source": [
    "I am not at all an expert regarding the process of extracting gold from ore, however this seems like a great result! In a nutshell, what is happening is that after each stage of the purification process the concentrate of gold is typically significantly higher than what it was in the previous step. Among other values, the 25th, 50th, and 75th percentiles are all larger after each stage. This implies that the process is quite effective at extracting gold, as it should be!"
   ]
  },
  {
   "cell_type": "code",
   "execution_count": 23,
   "metadata": {},
   "outputs": [
    {
     "name": "stdout",
     "output_type": "stream",
     "text": [
      "The summary statistics of the values of the concentrate of lead after flotation are:\n",
      "count    14149.000000\n",
      "mean         7.664555\n",
      "std          1.856279\n",
      "min          0.000000\n",
      "25%          6.850501\n",
      "50%          7.760435\n",
      "75%          8.601927\n",
      "max         13.617072\n",
      "Name: rougher.output.concentrate_pb, dtype: float64\n",
      "\n",
      "The summary statistics of the values of the concentrate of lead after the 1st purification stage are:\n",
      "count    14149.000000\n",
      "mean         9.568544\n",
      "std          2.709330\n",
      "min          0.000000\n",
      "25%          8.315997\n",
      "50%          9.920598\n",
      "75%         11.298487\n",
      "max         17.081278\n",
      "Name: primary_cleaner.output.concentrate_pb, dtype: float64\n",
      "\n",
      "The summary statistics of the values of the concentrate of lead after the 2nd purification stage are:\n",
      "count    14149.000000\n",
      "mean        10.132848\n",
      "std          1.654925\n",
      "min          0.000000\n",
      "25%          9.296833\n",
      "50%         10.297013\n",
      "75%         11.170578\n",
      "max         17.031899\n",
      "Name: final.output.concentrate_pb, dtype: float64\n"
     ]
    }
   ],
   "source": [
    "print(\"The summary statistics of the values of the concentrate of lead after flotation are:\")\n",
    "print(gold_recovery_train['rougher.output.concentrate_pb'].describe())\n",
    "print()\n",
    "print(\"The summary statistics of the values of the concentrate of lead after the 1st purification stage are:\")\n",
    "print(gold_recovery_train['primary_cleaner.output.concentrate_pb'].describe())\n",
    "print()\n",
    "print(\"The summary statistics of the values of the concentrate of lead after the 2nd purification stage are:\")\n",
    "print(gold_recovery_train['final.output.concentrate_pb'].describe())"
   ]
  },
  {
   "cell_type": "code",
   "execution_count": 24,
   "metadata": {},
   "outputs": [],
   "source": [
    "df_for_pb_boxplot = pd.DataFrame()\n",
    "\n",
    "df_for_pb_boxplot['concentrate_pb'] = pd.concat([gold_recovery_train['rougher.output.concentrate_pb'].copy(),\n",
    "                                                 gold_recovery_train['primary_cleaner.output.concentrate_pb'].copy(),\n",
    "                                                 gold_recovery_train['final.output.concentrate_pb'].copy()], \n",
    "                                                 ignore_index = True)\n",
    "\n",
    "df_for_pb_boxplot['which_step'] = pd.concat([pd.Series(['flotation_output']*len(gold_recovery_train), name = 'step'),\n",
    "                                             pd.Series(['primary_cleaner_output']*len(gold_recovery_train), name = 'step'),\n",
    "                                             pd.Series(['final_output']*len(gold_recovery_train), name = 'step')], \n",
    "                                             ignore_index = True)\n",
    "\n",
    "df_for_pb_boxplot.reset_index(drop = True, inplace = True)"
   ]
  },
  {
   "cell_type": "code",
   "execution_count": 25,
   "metadata": {},
   "outputs": [
    {
     "data": {
      "image/png": "[encoded data removed]",
      "text/plain": [
       "<Figure size 864x432 with 1 Axes>"
      ]
     },
     "metadata": {
      "needs_background": "light"
     },
     "output_type": "display_data"
    }
   ],
   "source": [
    "plt.figure(figsize = (12, 6))\n",
    "boxplot_concentrate_pb = sns.boxplot(data = df_for_pb_boxplot, orient = 'h', x = 'concentrate_pb', y = 'which_step')\n",
    "plt.title('Boxplot of the Concentrate of Lead (Pb) After Different Steps of the Extraction Process')\n",
    "plt.xlabel('Concentrate of Lead (Pb)')\n",
    "plt.xticks([0, 1, 2, 3, 4, 5, 6, 7, 8, 9, 10, 11, 12, 13, 14, 15, 16, 17, 18])\n",
    "plt.ylabel('')\n",
    "boxplot_concentrate_pb.set_yticklabels(['After Flotation', 'After 1st Purification Stage', 'After 2nd Purification Stage'])\n",
    "plt.show()"
   ]
  },
  {
   "cell_type": "markdown",
   "metadata": {},
   "source": [
    "What I find most interesting about this distribution is that after the first purification stage, the 50th and 75th percentile values become considerably larger when compared to the values after flotation (but before the first purification), but the same cannot be said about what happens after the second purification stage. Indeed, the 50th and 75th percentile concentrate values of lead after the second purification stage are hardly any different (although the 25th percentile value is considerably larger); what is different about the distribution is how much \"tighter\" it is compared to that of after the first purification stage."
   ]
  },
  {
   "cell_type": "code",
   "execution_count": 26,
   "metadata": {},
   "outputs": [
    {
     "name": "stdout",
     "output_type": "stream",
     "text": [
      "The summary statistics of the values of the concentrate of silver after flotation are:\n",
      "count    14149.000000\n",
      "mean        11.775812\n",
      "std          2.731747\n",
      "min          0.000000\n",
      "25%         10.486871\n",
      "50%         11.747362\n",
      "75%         13.426419\n",
      "max         24.480271\n",
      "Name: rougher.output.concentrate_ag, dtype: float64\n",
      "\n",
      "The summary statistics of the values of the concentrate of silver after the 1st purification stage are:\n",
      "count    14149.000000\n",
      "mean         8.200916\n",
      "std          2.005185\n",
      "min          0.000000\n",
      "25%          7.107126\n",
      "50%          8.226247\n",
      "75%          9.504924\n",
      "max         16.081632\n",
      "Name: primary_cleaner.output.concentrate_ag, dtype: float64\n",
      "\n",
      "The summary statistics of the values of the concentrate of silver after the 2nd purification stage are:\n",
      "count    14149.000000\n",
      "mean         5.141921\n",
      "std          1.369603\n",
      "min          0.000000\n",
      "25%          4.211500\n",
      "50%          4.994607\n",
      "75%          5.859495\n",
      "max         16.001945\n",
      "Name: final.output.concentrate_ag, dtype: float64\n"
     ]
    }
   ],
   "source": [
    "print(\"The summary statistics of the values of the concentrate of silver after flotation are:\")\n",
    "print(gold_recovery_train['rougher.output.concentrate_ag'].describe())\n",
    "print()\n",
    "print(\"The summary statistics of the values of the concentrate of silver after the 1st purification stage are:\")\n",
    "print(gold_recovery_train['primary_cleaner.output.concentrate_ag'].describe())\n",
    "print()\n",
    "print(\"The summary statistics of the values of the concentrate of silver after the 2nd purification stage are:\")\n",
    "print(gold_recovery_train['final.output.concentrate_ag'].describe())"
   ]
  },
  {
   "cell_type": "code",
   "execution_count": 27,
   "metadata": {},
   "outputs": [],
   "source": [
    "df_for_ag_boxplot = pd.DataFrame()\n",
    "\n",
    "df_for_ag_boxplot['concentrate_ag'] = pd.concat([gold_recovery_train['rougher.output.concentrate_ag'].copy(),\n",
    "                                                 gold_recovery_train['primary_cleaner.output.concentrate_ag'].copy(),\n",
    "                                                 gold_recovery_train['final.output.concentrate_ag'].copy()], \n",
    "                                                 ignore_index = True)\n",
    "\n",
    "df_for_ag_boxplot['which_step'] = pd.concat([pd.Series(['flotation_output']*len(gold_recovery_train), name = 'step'),\n",
    "                                             pd.Series(['primary_cleaner_output']*len(gold_recovery_train), name = 'step'),\n",
    "                                             pd.Series(['final_output']*len(gold_recovery_train), name = 'step')], \n",
    "                                                 ignore_index = True)\n",
    "\n",
    "df_for_ag_boxplot.reset_index(drop = True, inplace = True)"
   ]
  },
  {
   "cell_type": "code",
   "execution_count": 28,
   "metadata": {},
   "outputs": [
    {
     "data": {
      "image/png": "[encoded data removed]",
      "text/plain": [
       "<Figure size 864x432 with 1 Axes>"
      ]
     },
     "metadata": {
      "needs_background": "light"
     },
     "output_type": "display_data"
    }
   ],
   "source": [
    "plt.figure(figsize = (12, 6))\n",
    "boxplot_concentrate_ag = sns.boxplot(data = df_for_ag_boxplot, orient = 'h', x = 'concentrate_ag', y = 'which_step')\n",
    "plt.title('Boxplot of the Concentrate of Silver (Ag) After Different Steps of the Extraction Process')\n",
    "plt.xlabel('Concentrate of Silver (Ag)')\n",
    "plt.xticks([0, 2, 4, 6, 8, 10, 12, 14, 16, 18, 20, 22, 24])\n",
    "plt.ylabel('')\n",
    "boxplot_concentrate_ag.set_yticklabels(['After Flotation', 'After 1st Purification Stage', 'After 2nd Purification Stage'])\n",
    "plt.show()"
   ]
  },
  {
   "cell_type": "markdown",
   "metadata": {},
   "source": [
    "Fascinating! Of the three metals, silver is the only one whose concentrate tends to **decrease** (quite significantly at that) after each purification stage.\n",
    "\n",
    "If they don't already know this, then **Zyfra** stakeholders should know that their extraction process increases the concentrate of gold and (to a lesser extent) lead at the expense of the concentrate of silver (which might be a problem because silver, while not as valuable as gold, is still quite valuable)."
   ]
  },
  {
   "cell_type": "markdown",
   "metadata": {},
   "source": [
    "<b><u>PART B</u>: Comparing the Feed Particle Size Distributions In the Training Set and In the Test Set</b> <a id=6.2></a>"
   ]
  },
  {
   "cell_type": "markdown",
   "metadata": {},
   "source": [
    "Notice that both the training set and the test set have columns named ``rougher.input.feed_size`` and ``primary_cleaner.input.feed_size``.\n",
    "\n",
    "I must check the distributions of these values; if they vary significantly, then the model evaluation will be incorrect.\n",
    "\n",
    "After consulting with a TripleTen tutor, I became convinced that Kernel Density Estimate (KDE) plots are appropriate for this check. (These plots estimate the probability density functions of the four distributions.)\n",
    "\n",
    "To make comparing the distributions as easy as possible, the rougher input feed sizes are plotted together, as are the primary cleaner feed sizes.\n",
    "\n",
    "I deliberately limited the x values on both plots because most of them occur within a relatively small interval of values.\n",
    "\n",
    "Lastly, I also use the **describe** function to display the summary statistics of each distribution."
   ]
  },
  {
   "cell_type": "code",
   "execution_count": 29,
   "metadata": {},
   "outputs": [
    {
     "name": "stdout",
     "output_type": "stream",
     "text": [
      "The summary statistics of the values of the rougher input feed sizes in the training set are:\n",
      "count    14149.000000\n",
      "mean        60.239856\n",
      "std         23.005310\n",
      "min          9.659576\n",
      "25%         48.966751\n",
      "50%         55.269784\n",
      "75%         66.007526\n",
      "max        484.967466\n",
      "Name: rougher.input.feed_size, dtype: float64\n",
      "\n",
      "The summary statistics of the values of the rougher input feed sizes in the test set are:\n",
      "count    5856.000000\n",
      "mean       55.898866\n",
      "std        22.707969\n",
      "min         0.046369\n",
      "25%        43.852884\n",
      "50%        49.964796\n",
      "75%        61.628003\n",
      "max       477.445473\n",
      "Name: rougher.input.feed_size, dtype: float64\n"
     ]
    }
   ],
   "source": [
    "print(\"The summary statistics of the values of the rougher input feed sizes in the training set are:\")\n",
    "print(gold_recovery_train['rougher.input.feed_size'].describe())\n",
    "print()\n",
    "print(\"The summary statistics of the values of the rougher input feed sizes in the test set are:\")\n",
    "print(gold_recovery_test['rougher.input.feed_size'].describe())"
   ]
  },
  {
   "cell_type": "code",
   "execution_count": 30,
   "metadata": {},
   "outputs": [
    {
     "data": {
      "image/png": "[encoded data removed]",
      "text/plain": [
       "<Figure size 864x432 with 1 Axes>"
      ]
     },
     "metadata": {
      "needs_background": "light"
     },
     "output_type": "display_data"
    }
   ],
   "source": [
    "plt.figure(figsize = (12, 6))\n",
    "\n",
    "sns.kdeplot(gold_recovery_train['rougher.input.feed_size'], fill = True, label = 'Training Set')\n",
    "sns.kdeplot(gold_recovery_test['rougher.input.feed_size'], fill = True, label = 'Test Set', color = 'red')\n",
    "\n",
    "plt.legend()\n",
    "plt.title('Probability Density Functions of the Rougher Input Feed Sizes of the Training and the Test Set')\n",
    "plt.xlabel('Rougher Input Feed Size')\n",
    "plt.xlim(0, 120)\n",
    "plt.xticks([0, 10, 20, 30, 40, 50, 60, 70, 80, 90, 100, 110, 120])\n",
    "plt.ylabel('Density')\n",
    "\n",
    "plt.show()"
   ]
  },
  {
   "cell_type": "markdown",
   "metadata": {},
   "source": [
    "Excellent! The summary statistics and the plots both strongly suggest that the two rougher input feed size distributions are very similar!"
   ]
  },
  {
   "cell_type": "code",
   "execution_count": 31,
   "metadata": {},
   "outputs": [
    {
     "name": "stdout",
     "output_type": "stream",
     "text": [
      "The summary statistics of the values of the primary cleaner feed sizes in the training set are:\n",
      "count    14149.000000\n",
      "mean         7.322310\n",
      "std          0.614062\n",
      "min          1.080000\n",
      "25%          6.960000\n",
      "50%          7.290000\n",
      "75%          7.700000\n",
      "max         10.470000\n",
      "Name: primary_cleaner.input.feed_size, dtype: float64\n",
      "\n",
      "The summary statistics of the values of the primary cleaner feed sizes in the test set are:\n",
      "count    5856.000000\n",
      "mean        7.264651\n",
      "std         0.611526\n",
      "min         5.650000\n",
      "25%         6.885625\n",
      "50%         7.259333\n",
      "75%         7.650000\n",
      "max        15.500000\n",
      "Name: primary_cleaner.input.feed_size, dtype: float64\n"
     ]
    }
   ],
   "source": [
    "print(\"The summary statistics of the values of the primary cleaner feed sizes in the training set are:\")\n",
    "print(gold_recovery_train['primary_cleaner.input.feed_size'].describe())\n",
    "print()\n",
    "print(\"The summary statistics of the values of the primary cleaner feed sizes in the test set are:\")\n",
    "print(gold_recovery_test['primary_cleaner.input.feed_size'].describe())"
   ]
  },
  {
   "cell_type": "code",
   "execution_count": 32,
   "metadata": {},
   "outputs": [
    {
     "data": {
      "image/png": "[encoded data removed]",
      "text/plain": [
       "<Figure size 864x432 with 1 Axes>"
      ]
     },
     "metadata": {
      "needs_background": "light"
     },
     "output_type": "display_data"
    }
   ],
   "source": [
    "plt.figure(figsize = (12, 6))\n",
    "\n",
    "sns.kdeplot(gold_recovery_train['primary_cleaner.input.feed_size'], fill = True, label = 'Training Set')\n",
    "sns.kdeplot(gold_recovery_test['primary_cleaner.input.feed_size'], fill = True, label = 'Test Set', color = 'red')\n",
    "\n",
    "plt.legend()\n",
    "plt.title('Probability Density Functions of the Primary Cleaner Feed Sizes of the Training Set and the Test Set')\n",
    "plt.xlabel('Primary Cleaner Feed Size')\n",
    "plt.xlim(4, 12)\n",
    "plt.ylabel('Density')\n",
    "\n",
    "plt.show()"
   ]
  },
  {
   "cell_type": "markdown",
   "metadata": {},
   "source": [
    "Once again, excellent! The two primary cleaner feed size distributions appear to be very similar as well!\n",
    "\n",
    "Interestingly, there is a ***MUCH*** wider interval of possible rougher input feed sizes than primary cleaner feed sizes."
   ]
  },
  {
   "cell_type": "markdown",
   "metadata": {},
   "source": [
    "<b><u>PART C</u>: Are There Any Abnormal Values In the Total Distribution?</b> <a id=6.3></a>"
   ]
  },
  {
   "cell_type": "markdown",
   "metadata": {},
   "source": [
    "To help me search for possible abnormal values, I must consider the amounts of all substances at each key stage: raw feed, rougher concentrate, and final concentrate. If I do find any abnormal values, then they should be removed from both the training set and the test set, otherwise they might cause my machine learning model to be less accurate than it otherwise would be.\n",
    "\n",
    "A well-known method for detecting outliers is the **Interquartile Range (IQR) Method**, which I will use here. According to this method, a data point is an outlier if it is more than 1.5 times the IQR below the first quartile or above the third quartile.\n",
    "\n",
    "For each metal (Au, Pb, and Ag), I will search for, and drop, outliers from their corresponding columns of the following names:\n",
    "\n",
    "``rougher.input.feed``, ``rougher.output.concentrate``, and ``final.output.concentrate``"
   ]
  },
  {
   "cell_type": "code",
   "execution_count": 33,
   "metadata": {},
   "outputs": [],
   "source": [
    "def drop_outliers_iqr(df, columns):\n",
    "    for column in columns:\n",
    "        q1 = df[column].quantile(0.25)\n",
    "        q3 = df[column].quantile(0.75)\n",
    "        iqr = q3 - q1\n",
    "        lower_bound = q1 - 1.5 * iqr\n",
    "        upper_bound = q3 + 1.5 * iqr\n",
    "        df = df[(df[column] >= lower_bound) & (df[column] <= upper_bound)]\n",
    "    return df"
   ]
  },
  {
   "cell_type": "code",
   "execution_count": 34,
   "metadata": {},
   "outputs": [
    {
     "data": {
      "text/plain": [
       "(11802, 87)"
      ]
     },
     "metadata": {},
     "output_type": "display_data"
    }
   ],
   "source": [
    "gold_recovery_train_no_outliers = drop_outliers_iqr(gold_recovery_train.copy(), ['rougher.input.feed_ag', \n",
    "                                                                                 'rougher.output.concentrate_ag', \n",
    "                                                                                 'final.output.concentrate_ag',\n",
    "                                                                                 \n",
    "                                                                                 'rougher.input.feed_pb', \n",
    "                                                                                 'rougher.output.concentrate_pb', \n",
    "                                                                                 'final.output.concentrate_pb',\n",
    "                                                                                 \n",
    "                                                                                 'rougher.input.feed_au', \n",
    "                                                                                 'rougher.output.concentrate_au', \n",
    "                                                                                 'final.output.concentrate_au'])\n",
    "\n",
    "display(gold_recovery_train_no_outliers.shape)"
   ]
  },
  {
   "cell_type": "markdown",
   "metadata": {},
   "source": [
    "Note that this dataframe has gone from having 16,860 entries to 11,802. \n",
    "\n",
    "While it is unfortunate that quite a lot of entries were dropped, I think it is for the best. Thankfully 11,802 is still a lot of data to work with."
   ]
  },
  {
   "cell_type": "code",
   "execution_count": 35,
   "metadata": {},
   "outputs": [
    {
     "data": {
      "text/plain": [
       "(5254, 53)"
      ]
     },
     "metadata": {},
     "output_type": "display_data"
    }
   ],
   "source": [
    "gold_recovery_test_no_outliers = drop_outliers_iqr(gold_recovery_test.copy(), ['rougher.input.feed_ag', \n",
    "                                                                               'rougher.input.feed_pb', \n",
    "                                                                               'rougher.input.feed_au'])\n",
    "\n",
    "display(gold_recovery_test_no_outliers.shape)"
   ]
  },
  {
   "cell_type": "markdown",
   "metadata": {},
   "source": [
    "This dataframe has gone from having 5,856 entries to 5,254. This is still plenty of data to work with."
   ]
  },
  {
   "cell_type": "markdown",
   "metadata": {},
   "source": [
    "# Section 3: Building the Model <a id=7></a>"
   ]
  },
  {
   "cell_type": "markdown",
   "metadata": {},
   "source": [
    "<b><u>PART A</u>: Writing a Function to Calculate the Final sMAPE Value</b> <a id=7.1></a>"
   ]
  },
  {
   "cell_type": "markdown",
   "metadata": {},
   "source": [
    "I displayed the formula for sMAPE back in **Feature Naming**, however I display it once again here, as well as the formula for Final sMAPE, for reference."
   ]
  },
  {
   "cell_type": "code",
   "execution_count": 36,
   "metadata": {},
   "outputs": [
    {
     "data": {
      "text/html": [
       "<img src=\"https://practicum-content.s3.us-west-1.amazonaws.com/resources/moved_smape_1576238825_1589899257.jpg\"/>"
      ],
      "text/plain": [
       "<IPython.core.display.Image object>"
      ]
     },
     "metadata": {},
     "output_type": "display_data"
    }
   ],
   "source": [
    "display(Image(url = 'https://practicum-content.s3.us-west-1.amazonaws.com/resources/moved_smape_1576238825_1589899257.jpg'))"
   ]
  },
  {
   "cell_type": "markdown",
   "metadata": {},
   "source": [
    "Note that dividing the denominator by 2 is mathematically equivalent to multiplying the numerator by 2. I write my function with this in mind."
   ]
  },
  {
   "cell_type": "code",
   "execution_count": 37,
   "metadata": {},
   "outputs": [
    {
     "data": {
      "text/html": [
       "<img src=\"https://practicum-content.s3.us-west-1.amazonaws.com/resources/moved__smape_1589899561.jpg\"/>"
      ],
      "text/plain": [
       "<IPython.core.display.Image object>"
      ]
     },
     "metadata": {},
     "output_type": "display_data"
    }
   ],
   "source": [
    "display(Image(url = 'https://practicum-content.s3.us-west-1.amazonaws.com/resources/moved__smape_1589899561.jpg'))"
   ]
  },
  {
   "cell_type": "code",
   "execution_count": 38,
   "metadata": {},
   "outputs": [],
   "source": [
    "def smape(y_target, y_predicted):\n",
    "    return np.sum(2 * np.abs(y_target - y_predicted) / ((np.abs(y_target) + np.abs(y_predicted)))) / len(y_target) * 100\n",
    "\n",
    "def final_smape(rougher_concentrate_smape, final_concentrate_smape):\n",
    "    return 0.25 * rougher_concentrate_smape + 0.75 * final_concentrate_smape"
   ]
  },
  {
   "cell_type": "markdown",
   "metadata": {},
   "source": [
    "<b><u>PART B</u>: Training Different Models and Testing the Best One Using the Test Sample</b> <a id=7.2></a>"
   ]
  },
  {
   "cell_type": "markdown",
   "metadata": {},
   "source": [
    "I will train three different models: a **decision tree regressor**, a **linear regression**, and a **random forest regressor**.\n",
    "\n",
    "Recall that the target features for the models are ```rougher.output.recovery``` and ```final.output.recovery```.\n",
    "\n",
    "Whichever of the three models has the smallest **Final sMAPE** value is the one that I will deem the best one to test with.\n",
    "\n",
    "I will be sure to evaluate each model using cross-validation. \n",
    "\n",
    "In particular, I set the **cv** parameter equal to 5 because that gives me multiple samples without being too computationally expensive. (In my draft, I toyed with setting **cv** to 10 but this made the **random forest regressor** especially computationally expensive.)\n",
    "\n",
    "Last, but not least, I must only use features that appear in both the training set and the test set. The next line of code makes sure of this."
   ]
  },
  {
   "cell_type": "code",
   "execution_count": 39,
   "metadata": {},
   "outputs": [],
   "source": [
    "date_and_targets = ['date', 'rougher.output.recovery', 'final.output.recovery']\n",
    "\n",
    "features_not_in_test_set = ['final.output.concentrate_ag', 'final.output.concentrate_au', 'final.output.concentrate_pb',\n",
    "                            'final.output.concentrate_sol', 'final.output.recovery', 'final.output.tail_ag',\n",
    "                            'final.output.tail_au', 'final.output.tail_pb', 'final.output.tail_sol', \n",
    "                            'primary_cleaner.output.concentrate_ag', 'primary_cleaner.output.concentrate_au',\n",
    "                            'primary_cleaner.output.concentrate_pb', 'primary_cleaner.output.concentrate_sol',\n",
    "                            'primary_cleaner.output.tail_ag', 'primary_cleaner.output.tail_au', \n",
    "                            'primary_cleaner.output.tail_pb', 'primary_cleaner.output.tail_sol',\n",
    "                            'rougher.calculation.au_pb_ratio', 'rougher.calculation.floatbank10_sulfate_to_au_feed',\n",
    "                            'rougher.calculation.floatbank11_sulfate_to_au_feed', \n",
    "                            'rougher.calculation.sulfate_to_au_concentrate', 'rougher.output.concentrate_ag',\n",
    "                            'rougher.output.concentrate_au', 'rougher.output.concentrate_pb', \n",
    "                            'rougher.output.concentrate_sol', 'rougher.output.recovery', 'rougher.output.tail_ag',\n",
    "                            'rougher.output.tail_au', 'rougher.output.tail_pb', 'rougher.output.tail_sol',\n",
    "                            'secondary_cleaner.output.tail_ag', 'secondary_cleaner.output.tail_au', \n",
    "                            'secondary_cleaner.output.tail_pb', 'secondary_cleaner.output.tail_sol']\n",
    "\n",
    "features_to_drop = date_and_targets + features_not_in_test_set\n",
    "\n",
    "features = gold_recovery_train_no_outliers.drop(features_to_drop, axis = 1).copy()\n",
    "\n",
    "targets = gold_recovery_train_no_outliers[['rougher.output.recovery', 'final.output.recovery']].copy()"
   ]
  },
  {
   "cell_type": "markdown",
   "metadata": {},
   "source": [
    "The reason why I set **max_depth** equal to 4 is because in my draft I wrote a for loop that tested every **max_depth** value between 1 and 30 (inclusive), and 4 is the value that gave me the smallest mean final sMAPE value."
   ]
  },
  {
   "cell_type": "code",
   "execution_count": 40,
   "metadata": {},
   "outputs": [
    {
     "name": "stdout",
     "output_type": "stream",
     "text": [
      "All Final sMAPE Values of the Decision Tree Regressor Model:\n",
      "[7.36130113 7.71053431 8.08030688 9.14036021 9.53957187]\n",
      "\n",
      "Mean Final sMAPE Value of the Decision Tree Regressor Model: 8.366414879446479\n"
     ]
    }
   ],
   "source": [
    "decision_tree_model = DecisionTreeRegressor(max_depth = 4, random_state = 12345)\n",
    "\n",
    "rougher_concentrate_smape_tree = cross_val_score(decision_tree_model, features, \n",
    "                                                 targets['rougher.output.recovery'], \n",
    "                                                 cv = 5, scoring = make_scorer(smape))\n",
    "\n",
    "final_concentrate_smape_tree = cross_val_score(decision_tree_model, features, \n",
    "                                               targets['final.output.recovery'], \n",
    "                                               cv = 5, scoring = make_scorer(smape))\n",
    "\n",
    "final_smape_tree = final_smape(rougher_concentrate_smape_tree, final_concentrate_smape_tree)\n",
    "\n",
    "print(\"All Final sMAPE Values of the Decision Tree Regressor Model:\") \n",
    "print(np.sort(final_smape_tree))\n",
    "print()\n",
    "print(\"Mean Final sMAPE Value of the Decision Tree Regressor Model:\", final_smape_tree.mean())"
   ]
  },
  {
   "cell_type": "code",
   "execution_count": 41,
   "metadata": {
    "scrolled": true
   },
   "outputs": [
    {
     "name": "stdout",
     "output_type": "stream",
     "text": [
      "All Final sMAPE Values of the Linear Regression Model:\n",
      "[ 7.36010724  7.6481617   8.80750359  9.77955067 11.99685893]\n",
      "\n",
      "Mean Final sMAPE Value of the Linear Regression Model: 9.118436426077809\n"
     ]
    }
   ],
   "source": [
    "linear_regression_model = LinearRegression()\n",
    "\n",
    "rougher_concentrate_smape_linear = cross_val_score(linear_regression_model, features, targets['rougher.output.recovery'], \n",
    "                                                   cv = 5, scoring = make_scorer(smape))\n",
    "\n",
    "final_concentrate_smape_linear = cross_val_score(linear_regression_model, features, targets['final.output.recovery'], \n",
    "                                                 cv = 5, scoring = make_scorer(smape))\n",
    "\n",
    "final_smape_linear = final_smape(rougher_concentrate_smape_linear, final_concentrate_smape_linear)\n",
    "\n",
    "print(\"All Final sMAPE Values of the Linear Regression Model:\") \n",
    "print(np.sort(final_smape_linear))\n",
    "print()\n",
    "print(\"Mean Final sMAPE Value of the Linear Regression Model:\", final_smape_linear.mean())"
   ]
  },
  {
   "cell_type": "markdown",
   "metadata": {},
   "source": [
    "The **decision tree regressor** is noticeably more accurate than the linear regression (by about 1 percentage point). \n",
    "\n",
    "That said, random forest regressors are usually more accurate than decision tree regressors, at the expense of being more computationally expensive. \n",
    "\n",
    "If my **random forest regressor** is more accurate ***AND*** is not overly computationally expensive, then I will choose it over the **decision tree regressor**.\n",
    "\n",
    "Similar to what I did with the **decision tree regressor**, I examined which values to set the hyperparameters (namely, **max_depth** and **n_estimators**) equal to in order to minimize the mean final sMAPE value."
   ]
  },
  {
   "cell_type": "code",
   "execution_count": 42,
   "metadata": {},
   "outputs": [
    {
     "name": "stdout",
     "output_type": "stream",
     "text": [
      "All Final sMAPE Values of the Random Forest Regressor Model:\n",
      "[7.16775397 7.30840464 7.98138224 8.05560417 8.96015038]\n",
      "\n",
      "Mean Final sMAPE Value of the Random Forest Regressor Model: 7.894659079094081\n"
     ]
    }
   ],
   "source": [
    "random_forest_model = RandomForestRegressor(max_depth = 4, n_estimators = 8, random_state = 12345)\n",
    "\n",
    "rougher_concentrate_smape_forest = cross_val_score(random_forest_model, features, targets['rougher.output.recovery'], \n",
    "                                                   cv = 5, scoring = make_scorer(smape))\n",
    "\n",
    "final_concentrate_smape_forest = cross_val_score(random_forest_model, features, targets['final.output.recovery'], \n",
    "                                                 cv = 5, scoring = make_scorer(smape))\n",
    "\n",
    "final_smape_forest = final_smape(rougher_concentrate_smape_forest, final_concentrate_smape_forest)\n",
    "\n",
    "print(\"All Final sMAPE Values of the Random Forest Regressor Model:\") \n",
    "print(np.sort(final_smape_forest))\n",
    "print()\n",
    "print(\"Mean Final sMAPE Value of the Random Forest Regressor Model:\", final_smape_forest.mean())"
   ]
  },
  {
   "cell_type": "markdown",
   "metadata": {},
   "source": [
    "Though the **random forest regressor** is a little computationally expensive, I will choose it because it is about 0.5 percentage point more accurate than the **decision tree regressor**, and accuracy is crucial in the context of extracting valuable metals such as gold."
   ]
  },
  {
   "cell_type": "markdown",
   "metadata": {},
   "source": [
    "As a sanity check, it is a good idea to compare my model to a **dummy regressor**, in which I use the median for the **strategy** parameter."
   ]
  },
  {
   "cell_type": "code",
   "execution_count": 43,
   "metadata": {},
   "outputs": [
    {
     "name": "stdout",
     "output_type": "stream",
     "text": [
      "All Final sMAPE Values of the Dummy Regressor:\n",
      "[7.90222719 8.18371373 9.13310227 9.67806864 9.76614891]\n",
      "\n",
      "Mean Final sMAPE Value of the Dummy Regressor: 8.932652148063664\n"
     ]
    }
   ],
   "source": [
    "dummy_model = DummyRegressor(strategy = 'median')\n",
    "\n",
    "rougher_concentrate_smape_dummy = cross_val_score(dummy_model, features, \n",
    "                                                  targets['rougher.output.recovery'], \n",
    "                                                  cv = 5, scoring = make_scorer(smape))\n",
    "\n",
    "final_concentrate_smape_dummy = cross_val_score(dummy_model, features, \n",
    "                                                targets['final.output.recovery'], \n",
    "                                                cv = 5, scoring = make_scorer(smape))\n",
    "\n",
    "final_smape_dummy = final_smape(rougher_concentrate_smape_dummy, final_concentrate_smape_dummy)\n",
    "\n",
    "print(\"All Final sMAPE Values of the Dummy Regressor:\")\n",
    "print(np.sort(final_smape_dummy))\n",
    "print()\n",
    "print(\"Mean Final sMAPE Value of the Dummy Regressor:\", final_smape_dummy.mean())"
   ]
  },
  {
   "cell_type": "markdown",
   "metadata": {},
   "source": [
    "Oddly enough, the **dummy regressor** is actually ***more*** accurate than the **linear regression**! \n",
    "\n",
    "Furthermore, it is not much less accurate than the **decision tree regressor**. \n",
    "\n",
    "The **random forest regressor** is a little more than 1 percentage point more accurate. I will now look at the distributions of the ```rougher.output.recovery``` and ```final.output.recovery``` values to get an idea of how significant this is."
   ]
  },
  {
   "cell_type": "code",
   "execution_count": 44,
   "metadata": {},
   "outputs": [
    {
     "name": "stdout",
     "output_type": "stream",
     "text": [
      "The summary statistics of the rougher concentrate recovery values are:\n"
     ]
    },
    {
     "data": {
      "text/plain": [
       "count    11802.000000\n",
       "mean        84.673130\n",
       "std          7.286246\n",
       "min         33.571847\n",
       "25%         80.455354\n",
       "50%         85.451570\n",
       "75%         90.175798\n",
       "max         99.301102\n",
       "Name: rougher.output.recovery, dtype: float64"
      ]
     },
     "metadata": {},
     "output_type": "display_data"
    },
    {
     "name": "stdout",
     "output_type": "stream",
     "text": [
      "\n",
      "The summary statistics of the final concentrate recovery values are:\n"
     ]
    },
    {
     "data": {
      "text/plain": [
       "count    11802.000000\n",
       "mean        67.226146\n",
       "std          8.204108\n",
       "min         12.641445\n",
       "25%         63.063849\n",
       "50%         67.510756\n",
       "75%         72.311483\n",
       "max        100.000000\n",
       "Name: final.output.recovery, dtype: float64"
      ]
     },
     "metadata": {},
     "output_type": "display_data"
    }
   ],
   "source": [
    "print('The summary statistics of the rougher concentrate recovery values are:')\n",
    "display(targets['rougher.output.recovery'].describe())\n",
    "print()\n",
    "print('The summary statistics of the final concentrate recovery values are:')\n",
    "display(targets['final.output.recovery'].describe())"
   ]
  },
  {
   "cell_type": "markdown",
   "metadata": {},
   "source": [
    "Notice that in both distributions, the 25th percentile and the 75th percentile are approximately equidistant from the 50th percentile (median). Furthermore, in both distributions the IQR is quite small, between 9 and 10. This implies that the distributions are \"tight\", which suggests to me that it is actually quite difficult to make a model that is superior to the **dummy regressor**. Due to this, I think it is an impressive result that the **random forest regressor** is (a little) more than 1 percentage point more accurate than the **dummy regressor**!"
   ]
  },
  {
   "cell_type": "markdown",
   "metadata": {},
   "source": [
    "I am curious to see how the predicted targets values compare to the actual targets values of the test set, which are found in the full set. On the next line, I use the **date** columns of the **gold_recovery_test_no_outliers** and **gold_recovery_full** dataframes to merge the dataframes in order to find the actual targets values of the test set that are located in the full set."
   ]
  },
  {
   "cell_type": "code",
   "execution_count": 45,
   "metadata": {},
   "outputs": [
    {
     "name": "stdout",
     "output_type": "stream",
     "text": [
      "<class 'pandas.core.frame.DataFrame'>\n",
      "Int64Index: 5254 entries, 0 to 5253\n",
      "Data columns (total 55 columns):\n",
      " #   Column                                      Non-Null Count  Dtype  \n",
      "---  ------                                      --------------  -----  \n",
      " 0   date                                        5254 non-null   object \n",
      " 1   primary_cleaner.input.sulfate               5254 non-null   float64\n",
      " 2   primary_cleaner.input.depressant            5254 non-null   float64\n",
      " 3   primary_cleaner.input.feed_size             5254 non-null   float64\n",
      " 4   primary_cleaner.input.xanthate              5254 non-null   float64\n",
      " 5   primary_cleaner.state.floatbank8_a_air      5254 non-null   float64\n",
      " 6   primary_cleaner.state.floatbank8_a_level    5254 non-null   float64\n",
      " 7   primary_cleaner.state.floatbank8_b_air      5254 non-null   float64\n",
      " 8   primary_cleaner.state.floatbank8_b_level    5254 non-null   float64\n",
      " 9   primary_cleaner.state.floatbank8_c_air      5254 non-null   float64\n",
      " 10  primary_cleaner.state.floatbank8_c_level    5254 non-null   float64\n",
      " 11  primary_cleaner.state.floatbank8_d_air      5254 non-null   float64\n",
      " 12  primary_cleaner.state.floatbank8_d_level    5254 non-null   float64\n",
      " 13  rougher.input.feed_ag                       5254 non-null   float64\n",
      " 14  rougher.input.feed_pb                       5254 non-null   float64\n",
      " 15  rougher.input.feed_rate                     5254 non-null   float64\n",
      " 16  rougher.input.feed_size                     5254 non-null   float64\n",
      " 17  rougher.input.feed_sol                      5254 non-null   float64\n",
      " 18  rougher.input.feed_au                       5254 non-null   float64\n",
      " 19  rougher.input.floatbank10_sulfate           5254 non-null   float64\n",
      " 20  rougher.input.floatbank10_xanthate          5254 non-null   float64\n",
      " 21  rougher.input.floatbank11_sulfate           5254 non-null   float64\n",
      " 22  rougher.input.floatbank11_xanthate          5254 non-null   float64\n",
      " 23  rougher.state.floatbank10_a_air             5254 non-null   float64\n",
      " 24  rougher.state.floatbank10_a_level           5254 non-null   float64\n",
      " 25  rougher.state.floatbank10_b_air             5254 non-null   float64\n",
      " 26  rougher.state.floatbank10_b_level           5254 non-null   float64\n",
      " 27  rougher.state.floatbank10_c_air             5254 non-null   float64\n",
      " 28  rougher.state.floatbank10_c_level           5254 non-null   float64\n",
      " 29  rougher.state.floatbank10_d_air             5254 non-null   float64\n",
      " 30  rougher.state.floatbank10_d_level           5254 non-null   float64\n",
      " 31  rougher.state.floatbank10_e_air             5254 non-null   float64\n",
      " 32  rougher.state.floatbank10_e_level           5254 non-null   float64\n",
      " 33  rougher.state.floatbank10_f_air             5254 non-null   float64\n",
      " 34  rougher.state.floatbank10_f_level           5254 non-null   float64\n",
      " 35  secondary_cleaner.state.floatbank2_a_air    5254 non-null   float64\n",
      " 36  secondary_cleaner.state.floatbank2_a_level  5254 non-null   float64\n",
      " 37  secondary_cleaner.state.floatbank2_b_air    5254 non-null   float64\n",
      " 38  secondary_cleaner.state.floatbank2_b_level  5254 non-null   float64\n",
      " 39  secondary_cleaner.state.floatbank3_a_air    5254 non-null   float64\n",
      " 40  secondary_cleaner.state.floatbank3_a_level  5254 non-null   float64\n",
      " 41  secondary_cleaner.state.floatbank3_b_air    5254 non-null   float64\n",
      " 42  secondary_cleaner.state.floatbank3_b_level  5254 non-null   float64\n",
      " 43  secondary_cleaner.state.floatbank4_a_air    5254 non-null   float64\n",
      " 44  secondary_cleaner.state.floatbank4_a_level  5254 non-null   float64\n",
      " 45  secondary_cleaner.state.floatbank4_b_air    5254 non-null   float64\n",
      " 46  secondary_cleaner.state.floatbank4_b_level  5254 non-null   float64\n",
      " 47  secondary_cleaner.state.floatbank5_a_air    5254 non-null   float64\n",
      " 48  secondary_cleaner.state.floatbank5_a_level  5254 non-null   float64\n",
      " 49  secondary_cleaner.state.floatbank5_b_air    5254 non-null   float64\n",
      " 50  secondary_cleaner.state.floatbank5_b_level  5254 non-null   float64\n",
      " 51  secondary_cleaner.state.floatbank6_a_air    5254 non-null   float64\n",
      " 52  secondary_cleaner.state.floatbank6_a_level  5254 non-null   float64\n",
      " 53  rougher.output.recovery                     5116 non-null   float64\n",
      " 54  final.output.recovery                       5210 non-null   float64\n",
      "dtypes: float64(54), object(1)\n",
      "memory usage: 2.2+ MB\n"
     ]
    }
   ],
   "source": [
    "test_and_full_sets_merged = pd.merge(gold_recovery_test_no_outliers, \n",
    "                                     gold_recovery_full[['date', 'rougher.output.recovery', 'final.output.recovery']], \n",
    "                                     how = 'inner', on = 'date')\n",
    "\n",
    "test_and_full_sets_merged.info()"
   ]
  },
  {
   "cell_type": "markdown",
   "metadata": {},
   "source": [
    "Hmm... for one reason or another, there are a relatively small number of null ```rougher.output.recovery``` and ```final.output.recovery``` values.\n",
    "\n",
    "The next line drops the rows that have a null ```rougher.output.recovery``` and/or ```final.output.recovery``` value."
   ]
  },
  {
   "cell_type": "code",
   "execution_count": 46,
   "metadata": {},
   "outputs": [
    {
     "name": "stdout",
     "output_type": "stream",
     "text": [
      "<class 'pandas.core.frame.DataFrame'>\n",
      "Int64Index: 5102 entries, 0 to 5253\n",
      "Data columns (total 55 columns):\n",
      " #   Column                                      Non-Null Count  Dtype  \n",
      "---  ------                                      --------------  -----  \n",
      " 0   date                                        5102 non-null   object \n",
      " 1   primary_cleaner.input.sulfate               5102 non-null   float64\n",
      " 2   primary_cleaner.input.depressant            5102 non-null   float64\n",
      " 3   primary_cleaner.input.feed_size             5102 non-null   float64\n",
      " 4   primary_cleaner.input.xanthate              5102 non-null   float64\n",
      " 5   primary_cleaner.state.floatbank8_a_air      5102 non-null   float64\n",
      " 6   primary_cleaner.state.floatbank8_a_level    5102 non-null   float64\n",
      " 7   primary_cleaner.state.floatbank8_b_air      5102 non-null   float64\n",
      " 8   primary_cleaner.state.floatbank8_b_level    5102 non-null   float64\n",
      " 9   primary_cleaner.state.floatbank8_c_air      5102 non-null   float64\n",
      " 10  primary_cleaner.state.floatbank8_c_level    5102 non-null   float64\n",
      " 11  primary_cleaner.state.floatbank8_d_air      5102 non-null   float64\n",
      " 12  primary_cleaner.state.floatbank8_d_level    5102 non-null   float64\n",
      " 13  rougher.input.feed_ag                       5102 non-null   float64\n",
      " 14  rougher.input.feed_pb                       5102 non-null   float64\n",
      " 15  rougher.input.feed_rate                     5102 non-null   float64\n",
      " 16  rougher.input.feed_size                     5102 non-null   float64\n",
      " 17  rougher.input.feed_sol                      5102 non-null   float64\n",
      " 18  rougher.input.feed_au                       5102 non-null   float64\n",
      " 19  rougher.input.floatbank10_sulfate           5102 non-null   float64\n",
      " 20  rougher.input.floatbank10_xanthate          5102 non-null   float64\n",
      " 21  rougher.input.floatbank11_sulfate           5102 non-null   float64\n",
      " 22  rougher.input.floatbank11_xanthate          5102 non-null   float64\n",
      " 23  rougher.state.floatbank10_a_air             5102 non-null   float64\n",
      " 24  rougher.state.floatbank10_a_level           5102 non-null   float64\n",
      " 25  rougher.state.floatbank10_b_air             5102 non-null   float64\n",
      " 26  rougher.state.floatbank10_b_level           5102 non-null   float64\n",
      " 27  rougher.state.floatbank10_c_air             5102 non-null   float64\n",
      " 28  rougher.state.floatbank10_c_level           5102 non-null   float64\n",
      " 29  rougher.state.floatbank10_d_air             5102 non-null   float64\n",
      " 30  rougher.state.floatbank10_d_level           5102 non-null   float64\n",
      " 31  rougher.state.floatbank10_e_air             5102 non-null   float64\n",
      " 32  rougher.state.floatbank10_e_level           5102 non-null   float64\n",
      " 33  rougher.state.floatbank10_f_air             5102 non-null   float64\n",
      " 34  rougher.state.floatbank10_f_level           5102 non-null   float64\n",
      " 35  secondary_cleaner.state.floatbank2_a_air    5102 non-null   float64\n",
      " 36  secondary_cleaner.state.floatbank2_a_level  5102 non-null   float64\n",
      " 37  secondary_cleaner.state.floatbank2_b_air    5102 non-null   float64\n",
      " 38  secondary_cleaner.state.floatbank2_b_level  5102 non-null   float64\n",
      " 39  secondary_cleaner.state.floatbank3_a_air    5102 non-null   float64\n",
      " 40  secondary_cleaner.state.floatbank3_a_level  5102 non-null   float64\n",
      " 41  secondary_cleaner.state.floatbank3_b_air    5102 non-null   float64\n",
      " 42  secondary_cleaner.state.floatbank3_b_level  5102 non-null   float64\n",
      " 43  secondary_cleaner.state.floatbank4_a_air    5102 non-null   float64\n",
      " 44  secondary_cleaner.state.floatbank4_a_level  5102 non-null   float64\n",
      " 45  secondary_cleaner.state.floatbank4_b_air    5102 non-null   float64\n",
      " 46  secondary_cleaner.state.floatbank4_b_level  5102 non-null   float64\n",
      " 47  secondary_cleaner.state.floatbank5_a_air    5102 non-null   float64\n",
      " 48  secondary_cleaner.state.floatbank5_a_level  5102 non-null   float64\n",
      " 49  secondary_cleaner.state.floatbank5_b_air    5102 non-null   float64\n",
      " 50  secondary_cleaner.state.floatbank5_b_level  5102 non-null   float64\n",
      " 51  secondary_cleaner.state.floatbank6_a_air    5102 non-null   float64\n",
      " 52  secondary_cleaner.state.floatbank6_a_level  5102 non-null   float64\n",
      " 53  rougher.output.recovery                     5102 non-null   float64\n",
      " 54  final.output.recovery                       5102 non-null   float64\n",
      "dtypes: float64(54), object(1)\n",
      "memory usage: 2.2+ MB\n"
     ]
    }
   ],
   "source": [
    "test_and_full_sets_merged.dropna(inplace = True)\n",
    "test_and_full_sets_merged.info()"
   ]
  },
  {
   "cell_type": "markdown",
   "metadata": {},
   "source": [
    "This merged dataframe has gone from having 5254 rows to 5102. Thankfully, this is a relatively small decrease."
   ]
  },
  {
   "cell_type": "markdown",
   "metadata": {},
   "source": [
    "Now I am equipped to measure how the predicted targets values compare to the actual targets values of the test set.\n",
    "\n",
    "My next lines of code do the following, in this order:\n",
    "\n",
    "1) Fit my random forest regressor with the **features** and **targets** dataframes.\n",
    "\n",
    "2) Put the features of **test_and_full_sets_merged** into their own dataframe, and apply the **predict** function to that new dataframe.\n",
    "\n",
    "3) Store the actual targets values of the test set into one dataframe, and the predicted targets values of the test set into another.\n",
    "\n",
    "4) Use my **smape** and **final_smape** functions to calculate the final sMAPE value of the test set."
   ]
  },
  {
   "cell_type": "code",
   "execution_count": 47,
   "metadata": {},
   "outputs": [
    {
     "data": {
      "text/plain": [
       "RandomForestRegressor(max_depth=4, n_estimators=8, random_state=12345)"
      ]
     },
     "execution_count": 47,
     "metadata": {},
     "output_type": "execute_result"
    }
   ],
   "source": [
    "random_forest_model.fit(features, targets)"
   ]
  },
  {
   "cell_type": "code",
   "execution_count": 48,
   "metadata": {},
   "outputs": [],
   "source": [
    "test_and_full_sets_merged_features = (test_and_full_sets_merged.drop(['date','rougher.output.recovery',\n",
    "                                                                     'final.output.recovery'], axis = 1).copy())\n",
    "\n",
    "random_forest_model_test = random_forest_model.predict(test_and_full_sets_merged_features)"
   ]
  },
  {
   "cell_type": "code",
   "execution_count": 49,
   "metadata": {},
   "outputs": [],
   "source": [
    "actual_targets_values_test = test_and_full_sets_merged[['rougher.output.recovery', 'final.output.recovery']].copy()\n",
    "\n",
    "predicted_targets_values_test = pd.DataFrame(random_forest_model_test)\n",
    "predicted_targets_values_test.rename(columns = {0: 'rougher.output.recovery', 1: 'final.output.recovery'}, inplace = True)"
   ]
  },
  {
   "cell_type": "code",
   "execution_count": 50,
   "metadata": {},
   "outputs": [
    {
     "name": "stdout",
     "output_type": "stream",
     "text": [
      "Final sMAPE Value of the Test Set's Targets Values: 8.819304813689158\n"
     ]
    }
   ],
   "source": [
    "rougher_concentrate_smape_test = smape(actual_targets_values_test['rougher.output.recovery'], \n",
    "                                       predicted_targets_values_test['rougher.output.recovery'])\n",
    "\n",
    "final_concentrate_smape_test = smape(actual_targets_values_test['final.output.recovery'], \n",
    "                                     predicted_targets_values_test['final.output.recovery'])\n",
    "\n",
    "final_smape_test = final_smape(rougher_concentrate_smape_test, final_concentrate_smape_test)\n",
    "\n",
    "print(\"Final sMAPE Value of the Test Set's Targets Values:\", final_smape_test)"
   ]
  },
  {
   "cell_type": "markdown",
   "metadata": {},
   "source": [
    "While about 8.82 is noticeably larger than the about 7.89 I received when I used cross validation on the training set, I think that these two numbers are close enough in value to safely assume that I correctly applied the model to the test set."
   ]
  },
  {
   "cell_type": "markdown",
   "metadata": {},
   "source": [
    "# Conclusion <a id=8></a>"
   ]
  },
  {
   "cell_type": "markdown",
   "metadata": {},
   "source": [
    "I am happy to inform **Zyfra** stakeholders that my project has acquired helpful results, including a prototype of a machine learning model that predicts the amount of gold recovered from ore.\n",
    "\n",
    "In chronological order, here are the key results of the project:\n",
    "\n",
    "(1) The ```rougher.output.recovery``` values of the training set are calculated correctly.\n",
    "\n",
    "(2) I found out which features appear in the training set, but not the test set. Hence, I only used the mutual features to train the model.\n",
    "\n",
    "(3) As ore undergoes purification, after each stage the concentrates of gold and (to a lesser extent) lead increase, but silver's concentrate decreases.\n",
    "\n",
    "(4) The feed particle size distributions of the training set are very similar to those of the test set, which is crucial because if they were not, then the machine learning's model would be inaccurate.\n",
    "\n",
    "(5) I used the IQR Method to remove outliers from the total concentrations of all the metals (gold, lead, and silver) at each key stage: raw feed, rougher concentrate, and final concentrate. Doing this surely helped improve the accuracy of the prototype.\n",
    "\n",
    "(6) After evaluating three models — a decision tree regressor, a linear regression, and a random forest regressor — using cross-validation, I found the random forest regressor to be the most accurate one, as determined by the sMAPE values of the models.\n",
    "\n",
    "(7) I compared the random forest regressor to a dummy regressor (using the median value as the \"strategy\") and, thankfully, I found the random forest regressor to be more accurate.\n",
    "\n",
    "(8) I used the random forest regressor to predict the rougher.output.recovery and final.output.recovery values of the test set, and I found that the sMAPE value between the actual recovery values and the predicted recovery values is similar to the sMAPE value I got from using cross validation on the training set.\n",
    "\n",
    "I am convinced that the above results give strong evidence that suggests the prototype model has potential to accurately approximate the amount of gold recovered from ore."
   ]
  }
 ],
 "metadata": {
  "kernelspec": {
   "display_name": "Python 3 (ipykernel)",
   "language": "python",
   "name": "python3"
  },
  "language_info": {
   "codemirror_mode": {
    "name": "ipython",
    "version": 3
   },
   "file_extension": ".py",
   "mimetype": "text/x-python",
   "name": "python",
   "nbconvert_exporter": "python",
   "pygments_lexer": "ipython3",
   "version": "3.9.5"
  },
  "toc": {
   "base_numbering": 1,
   "nav_menu": {},
   "number_sections": true,
   "sideBar": true,
   "skip_h1_title": true,
   "title_cell": "Table of Contents",
   "title_sidebar": "Contents",
   "toc_cell": false,
   "toc_position": {},
   "toc_section_display": true,
   "toc_window_display": false
  }
 },
 "nbformat": 4,
 "nbformat_minor": 2
}
